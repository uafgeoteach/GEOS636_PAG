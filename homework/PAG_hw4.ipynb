{
 "cells": [
  {
   "cell_type": "markdown",
   "metadata": {
    "colab_type": "text",
    "id": "3vsLmORbQYTo"
   },
   "source": [
    "# **Homework 4 - Functions**\n",
    "---\n",
    "\n",
    "Your deliverable for this homework will be this notebook, with **\"deliverables\" completed as requested below**.  Please rename the notebook from `PAG_hw04.ipynb` to `<last_name>_hw_04.ipynb` prior to submission. Download the file using **File $\\rightarrow$ Download .ipynb**. Submit it to Blackboard under the Homework 3 assignment **no later than 5pm Thursday, September 24th**.\n",
    "\n",
    "\n",
    "## Assignment 1\n",
    "\n",
    "Last week you wrote a few lines of Python code that iterate over a list of numbers to print out whether or not a number is divisible by 3. This week, you will generalize this into a function called `divisible_by` that takes in two values: the first parameter is the dividend, the second parameter is the divisor. The function returns one value: `True` if there's no remainder after the division, that is the dividend is divisible by the divsor, and `False` otherwise.\n",
    "\n",
    "Once this function is written, iterate over the list `to_test` from last week, given below, and test which values are divible by 5.\n"
   ]
  },
  {
   "cell_type": "code",
   "execution_count": null,
   "metadata": {},
   "outputs": [],
   "source": [
    "to_test = [23, 4, 5, 6, 7, 9, 23456343, 2.2, 992]\n"
   ]
  },
  {
   "cell_type": "markdown",
   "metadata": {},
   "source": [
    "## Note\n",
    "\n",
    "We could set up the code to operate on the entire list at once, a topic we've previously termed array programming. For instructional purposes we are not doing this here right now.\n",
    "\n",
    "## Assignment 2\n",
    "\n",
    "However, read [this paper](http://grapenthin.org/download/Harris_etal_2020_array_programming_with_numpy.pdf) to learn a little bit more about `numpy`, array programming and the Python scientific programming ecosystem. Respond in the text cell below with 2 concepts that the text didn't clarify well and 2 takeaways that blow your mind."
   ]
  },
  {
   "cell_type": "markdown",
   "metadata": {},
   "source": [
    "Your answers:"
   ]
  }
 ],
 "metadata": {
  "celltoolbar": "Tags",
  "colab": {
   "collapsed_sections": [],
   "name": "PAG_hw3.ipynb",
   "provenance": []
  },
  "kernelspec": {
   "display_name": "Python 3",
   "language": "python",
   "name": "python3"
  },
  "language_info": {
   "codemirror_mode": {
    "name": "ipython",
    "version": 3
   },
   "file_extension": ".py",
   "mimetype": "text/x-python",
   "name": "python",
   "nbconvert_exporter": "python",
   "pygments_lexer": "ipython3",
   "version": "3.6.9"
  }
 },
 "nbformat": 4,
 "nbformat_minor": 1
}
