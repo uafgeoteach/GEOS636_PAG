{
 "cells": [
  {
   "cell_type": "markdown",
   "metadata": {},
   "source": [
    "# **Homework 6 - NumPy & Pandas**\n",
    "---\n",
    "\n",
    "Your deliverable for this homework will be this notebook, with **\"deliverables\" completed as requested below**.  Please rename the notebook from `PAG_hw06.ipynb` to `<last_name>_hw_06.ipynb` prior to submission. Download the file using **File $\\rightarrow$ Download**.\n",
    "\n",
    "## Assignment 1 Pandas\n",
    "\n",
    "Run the two cells below to grab the tilt meter data we've been playing with before and read the file into a pandas data frame.\n"
   ]
  },
  {
   "cell_type": "code",
   "execution_count": null,
   "metadata": {},
   "outputs": [],
   "source": [
    "!curl -O https://raw.githubusercontent.com/uafgeoteach/GEOS636_PAG/master/AV37_lava_lake.txt\n"
   ]
  },
  {
   "cell_type": "code",
   "execution_count": null,
   "metadata": {},
   "outputs": [],
   "source": [
    "import pandas as pd\n",
    "import numpy as np\n",
    "\n",
    "#read the data from disk to data frame...\n",
    "tilt_data = pd.read_csv('AV37_lava_lake.txt', delimiter=\" \", index_col=0, names=[\"Time\", \"X\", \"Y\"], parse_dates=True)\n",
    "\n",
    "#WHAT?\n",
    "tilt_data = tilt_data - tilt_data.mean()\n",
    "\n",
    "#plot the two columns\n",
    "tilt_data.plot()"
   ]
  },
  {
   "cell_type": "markdown",
   "metadata": {},
   "source": [
    "Consult the documentation for pandas `read_csv` function. **In a new text cell below**, explain what the call to `read_csv` that I provide you above does. What are all the parameters, why is this useful? Futhermore, explain what the code line that's marked with the comment `#What?` does. What happens when this is not included?"
   ]
  },
  {
   "cell_type": "markdown",
   "metadata": {},
   "source": [
    "Using individual pandas commands provide 5 insightful metrics about these time series. Add a new code cell below, insert and experiment with your code, and provide comments above each code line that explain what it is that you're doing."
   ]
  },
  {
   "cell_type": "markdown",
   "metadata": {},
   "source": [
    "## Assignment 2 NumPy\n",
    "\n",
    "The cell below has the code for the example from the lecture. Modify the code to give the face a different emotion."
   ]
  },
  {
   "cell_type": "code",
   "execution_count": 1,
   "metadata": {},
   "outputs": [
    {
     "data": {
      "image/png": "[encoded data removed]",
      "text/plain": [
       "<Figure size 640x480 with 1 Axes>"
      ]
     },
     "metadata": {},
     "output_type": "display_data"
    }
   ],
   "source": [
    "import numpy as np\n",
    "import matplotlib.pyplot as plt\n",
    "\n",
    "width  = 512\n",
    "height = 512\n",
    "\n",
    "#create an empty 2D matrix of type int\n",
    "data = np.zeros( (512,512), dtype=np.uint8)\n",
    "\n",
    "#put some data in some places\n",
    "data[100:120, 100:120] = 1\n",
    "data[100:120, 380:400] = 1\n",
    "data[310:330, 150:350] = 1\n",
    "\n",
    "#display data as an image\n",
    "plt.imshow(data)\n",
    "\n",
    "#show on the screen\n",
    "plt.show()"
   ]
  },
  {
   "cell_type": "code",
   "execution_count": null,
   "metadata": {},
   "outputs": [],
   "source": []
  }
 ],
 "metadata": {
  "kernelspec": {
   "display_name": "base",
   "language": "python",
   "name": "python3"
  },
  "language_info": {
   "codemirror_mode": {
    "name": "ipython",
    "version": 3
   },
   "file_extension": ".py",
   "mimetype": "text/x-python",
   "name": "python",
   "nbconvert_exporter": "python",
   "pygments_lexer": "ipython3",
   "version": "3.10.8"
  }
 },
 "nbformat": 4,
 "nbformat_minor": 4
}
