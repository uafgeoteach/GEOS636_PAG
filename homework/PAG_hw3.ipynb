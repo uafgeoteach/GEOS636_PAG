{
 "cells": [
  {
   "cell_type": "markdown",
   "metadata": {
    "colab_type": "text",
    "id": "3vsLmORbQYTo"
   },
   "source": [
    "# **Homework 3 - Flow control**\n",
    "---\n",
    "\n",
    "Your deliverable for this homework will be this notebook, with **\"deliverables\" completed as requested below**.  Please rename the notebook from `PAG_hw03.ipynb` to `<last_name>_hw_03.ipynb` prior to submission. Download the file using **File $\\rightarrow$ Download as $\\rightarrow$ Notebook (.ipynb)**. \n",
    "\n",
    "## Assignment\n",
    "\n",
    "Write a few lines of Python code that iterates over the list of numbers below and prints out whether or not a number is divisible by 3. Note that the topic of this assignment is \"Flow Control\", so you should include statements that affect flow control ... (for, if, while, ... or such)\n",
    "\n",
    "## Background\n",
    "\n",
    "For this, you should utilize the modulo operator. From the [Python Documentation](https://docs.python.org/3.3/reference/expressions.html#binary-arithmetic-operations):\n",
    "\n",
    "\"*The % (modulo) operator yields the remainder from the division of the first argument by the second. The numeric arguments are first converted to a common type.The modulo operator always yields a result with the same sign as its second operand (or zero); the absolute value of the result is strictly smaller than the absolute value of the second operand.*\"\n",
    "\n",
    "For example:\n"
   ]
  },
  {
   "cell_type": "code",
   "execution_count": null,
   "metadata": {
    "colab": {},
    "colab_type": "code",
    "id": "5MTw14hFQXxX"
   },
   "outputs": [],
   "source": [
    "print(6%1)\n",
    "print(6%2)\n",
    "print(6%3)\n",
    "print(6%4)\n",
    "print(6%5)\n",
    "print(6%6)\n",
    "print(\"%d is divisible by 2: %d\" % (6, 6%2))"
   ]
  },
  {
   "cell_type": "markdown",
   "metadata": {
    "colab_type": "text",
    "id": "UOIyIbbfRvQC"
   },
   "source": [
    "Here, 6 is divisible by 1, 2, 3 and 6 - all values with zero remainder after the modulo operation. \n",
    "\n",
    "Please complete the code cell below - you can reuse the last print statement above in your solution."
   ]
  },
  {
   "cell_type": "code",
   "execution_count": null,
   "metadata": {},
   "outputs": [],
   "source": [
    "to_test = [23, 4, 5, 6, 7, 9, 23456343, 2.2, 992]"
   ]
  }
 ],
 "metadata": {
  "celltoolbar": "Tags",
  "colab": {
   "collapsed_sections": [],
   "name": "PAG_hw3.ipynb",
   "provenance": []
  },
  "kernelspec": {
   "display_name": "Python 3",
   "language": "python",
   "name": "python3"
  },
  "language_info": {
   "codemirror_mode": {
    "name": "ipython",
    "version": 3
   },
   "file_extension": ".py",
   "mimetype": "text/x-python",
   "name": "python",
   "nbconvert_exporter": "python",
   "pygments_lexer": "ipython3",
   "version": "3.8.5"
  }
 },
 "nbformat": 4,
 "nbformat_minor": 1
}
