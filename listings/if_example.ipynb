{
 "cells": [
  {
   "cell_type": "code",
   "execution_count": 4,
   "id": "28f4b2b8-7989-4776-9cbf-0dc4082fd010",
   "metadata": {
    "tags": []
   },
   "outputs": [
    {
     "name": "stdout",
     "output_type": "stream",
     "text": [
      "New PAG Package\n"
     ]
    }
   ],
   "source": [
    "# if CONDITION: \n",
    "#    STATEMENT\n",
    "# [elif CONDITION: \n",
    "#    STATEMENT ]\n",
    "# [elif...]\n",
    "# [else:\n",
    "#    STATEMENT ]\n",
    "#\n",
    "import datetime\n",
    "\n",
    "#Get day of the week as an integer, \n",
    "#Monday is 0, Sunday is 6.\n",
    "day = datetime.datetime.today().weekday()\n",
    "\n",
    "if day == 3:\n",
    "   print('New PAG Package')\n",
    "elif day == 5 or day == 6:\n",
    "   print('weekend')\n",
    "else:\n",
    "   print('Deal with other stuff.') \n"
   ]
  }
 ],
 "metadata": {
  "kernelspec": {
   "display_name": "base",
   "language": "python",
   "name": "python3"
  },
  "language_info": {
   "codemirror_mode": {
    "name": "ipython",
    "version": 3
   },
   "file_extension": ".py",
   "mimetype": "text/x-python",
   "name": "python",
   "nbconvert_exporter": "python",
   "pygments_lexer": "ipython3",
   "version": "3.10.8"
  }
 },
 "nbformat": 4,
 "nbformat_minor": 5
}
