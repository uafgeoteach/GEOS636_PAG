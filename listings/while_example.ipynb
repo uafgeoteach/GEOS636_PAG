{
 "cells": [
  {
   "cell_type": "code",
   "execution_count": null,
   "id": "e3a95ff4-c1c7-42d9-a6cb-d98078d601ab",
   "metadata": {
    "tags": []
   },
   "outputs": [
    {
     "name": "stdout",
     "output_type": "stream",
     "text": [
      "37\n",
      "38\n",
      "39\n",
      "40\n",
      "41\n",
      "42\n",
      "43\n",
      "44\n",
      "45\n",
      "46\n",
      "47\n",
      "48\n"
     ]
    }
   ],
   "source": [
    "# while CONDITION:\n",
    "#   STATEMENT\n",
    "#   [if CONDITION:\n",
    "#       break]\n",
    "# \n",
    "# EXAMPLE: Run until a new minute starts\n",
    "\n",
    "import time, datetime\n",
    "\n",
    "#infinite loop, unless there's a break\n",
    "#somewhere\n",
    "while True:\n",
    "    #use datetime module to get second\n",
    "    sec = datetime.datetime.now().second\n",
    "    \n",
    "    print(sec)\n",
    "    time.sleep(1)\n",
    "\n",
    "    #not every while needs a break\n",
    "    if sec == 59:\n",
    "        break\n",
    "    "
   ]
  }
 ],
 "metadata": {
  "kernelspec": {
   "display_name": "base",
   "language": "python",
   "name": "python3"
  },
  "language_info": {
   "codemirror_mode": {
    "name": "ipython",
    "version": 3
   },
   "file_extension": ".py",
   "mimetype": "text/x-python",
   "name": "python",
   "nbconvert_exporter": "python",
   "pygments_lexer": "ipython3",
   "version": "3.10.8"
  }
 },
 "nbformat": 4,
 "nbformat_minor": 5
}
