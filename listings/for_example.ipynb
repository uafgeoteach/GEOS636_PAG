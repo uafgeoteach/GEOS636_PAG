{
 "cells": [
  {
   "cell_type": "code",
   "execution_count": 1,
   "id": "c531f6a6-f62e-41e4-96fe-9351549e4a72",
   "metadata": {},
   "outputs": [
    {
     "name": "stdout",
     "output_type": "stream",
     "text": [
      "2\n",
      "4\n",
      "6\n",
      "8\n",
      "10\n",
      "first `for' done\n",
      "\n",
      "29\n"
     ]
    }
   ],
   "source": [
    "# for variable in sequence \n",
    "#   STATEMENT\n",
    "# \n",
    "# EXAMPLE: counting, adding\n",
    "#\n",
    "\n",
    "import numpy as np\n",
    "\n",
    "#from 2 to 10 in steps of 2\n",
    "for x in range(2,11,2):\n",
    "    print(x)\n",
    "print(\"first `for' done\\n\")\n",
    "\n",
    "#sum of vector elements\n",
    "s = 0\n",
    "for x in np.array([23,1,5]):\n",
    "   s = s + x    \n",
    "\n",
    "print(s)"
   ]
  }
 ],
 "metadata": {
  "kernelspec": {
   "display_name": "base",
   "language": "python",
   "name": "python3"
  },
  "language_info": {
   "codemirror_mode": {
    "name": "ipython",
    "version": 3
   },
   "file_extension": ".py",
   "mimetype": "text/x-python",
   "name": "python",
   "nbconvert_exporter": "python",
   "pygments_lexer": "ipython3",
   "version": "3.10.8"
  }
 },
 "nbformat": 4,
 "nbformat_minor": 5
}
