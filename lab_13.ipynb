{
 "cells": [
  {
   "cell_type": "markdown",
   "metadata": {},
   "source": [
    "# Lab 13 — PyGMT Part 2\n",
    "---\n",
    "\n",
    "## Introduction\n",
    "\n",
    "Today's lab will use some of the more complex options in PyGMT we've discussed in lecture. You'll be layering different datasets to create a map showing several things. Each deliverable in this lab builds on the last - your final map should be the product of all four deliverables. We've provided an example output of Deliverable 4 for reference in the lab_13 directory. Please note that your map does not need to look exactly like this, you are free to use your preferred projection and color scales as long as they are reasonable.\n",
    "\n",
    "For reference — PyGMT documentation is available [here](https://www.pygmt.org/). You may also want to reference the command line GMT documentation pages [here](https://docs.generic-mapping-tools.org/latest/modules.html). Use these regularly to explore the functions you'll need and see examples of their use.\n",
    "\n",
    "## Submission\n",
    "\n",
    "Please submit your completed notebook on Canvas under the Lab 13 assignment page."
   ]
  },
  {
   "cell_type": "markdown",
   "metadata": {},
   "source": [
    "## Deliverable 1: Use PyGMT to plot bathymetry with illumination <font color='red'>(25 points)</font>\n",
    "\n",
    "For this deliverable, use the PyGMT [`load_earth_relief`](https://www.pygmt.org/latest/api/generated/pygmt.datasets.load_earth_relief.html) function to download bathymetry and topography for the Bering Sea region at 1 minute resolution. Then plot it on a map with shading, a frame, an appropriate color map, shorelines, and the title \"Lab 13 Map\". Use an appropriate projection. The map should extend from 160 to 220 degrees longitude and from 50 to 70 degrees latitude. The comments in the cell below are the PyGMT functions you'll need to complete this deliverable."
   ]
  },
  {
   "cell_type": "code",
   "execution_count": null,
   "metadata": {},
   "outputs": [],
   "source": [
    "# load_earth_relief\n",
    "# basemap\n",
    "# grdimage\n",
    "# coast"
   ]
  },
  {
   "cell_type": "markdown",
   "metadata": {},
   "source": [
    "## Deliverable 2: Use PyGMT to plot depth to the Aleutian arc slab <font color='red'>(25 points)</font>\n",
    "\n",
    "In this section, you will work with data contained in a data table which you will need to plot in GMT. The data in this case is latitude, longitude, and depth (km) for the position of the subducted slab which forms the Aleutian trench. The source of the data is the [USGS Slab2 model for the Alaska region](https://www.sciencebase.gov/catalog/item/5aa2c535e4b0b1c392ea3ca2). We've provided the file, `alu_slab2_dep_02.23.18.xyz`, in the `lab_13` directory. Your task here is to use tools in GMT to convert this data to a grid format and plot the top of the subducted slab — that is, the depth to the slab surface — on your map from Deliverable 1 with 30% transparency, an appropriate colormap, and a labeled color scalebar. You can use the same figure handle you set up in Deliverable 1 to keep adding layers to the same plot. The comments in the cell below are the PyGMT functions you'll need to complete this deliverable."
   ]
  },
  {
   "cell_type": "code",
   "execution_count": null,
   "metadata": {},
   "outputs": [],
   "source": [
    "# xyz2grd\n",
    "# grd2cpt\n",
    "# grdimage\n",
    "# colorbar"
   ]
  },
  {
   "cell_type": "markdown",
   "metadata": {},
   "source": [
    "## Deliverable 3: Use PyGMT to plot sediment thickness contours <font color='red'>(25 points)</font>\n",
    "\n",
    "For this deliverable please first use `wget` or `curl` to download a global sediment thickness database, from here (https://www.ngdc.noaa.gov/mgg/sedthick/data/version3/GlobSed.zip) then unzip it. You can read more about the dataset [here](https://www.ngdc.noaa.gov/mgg/sedthick/). Use [`grdcontour`](https://www.pygmt.org/latest/api/generated/pygmt.Figure.grdcontour.html?highlight=grdcontour#pygmt.Figure.grdcontour) to add sediment thickness contours to your plot from Deliverable 2. The contour interval should be 1000 meters with labels every 2000 meters."
   ]
  },
  {
   "cell_type": "code",
   "execution_count": null,
   "metadata": {},
   "outputs": [],
   "source": [
    "# grdcontour"
   ]
  },
  {
   "cell_type": "markdown",
   "metadata": {},
   "source": [
    "## Deliverable 4: Add seismic stations <font color='red'>(25 points)</font>\n",
    "\n",
    "For this deliverable we'd like you to add the locations of seismic stations to your map, you can use [this iris webservices link](https://service.iris.edu/fdsnws/station/1/query?minlatitude=50&maxlatitude=73&minlongitude=171&maxlongitude=-129&format=text) to download a list. If you are more interested in how that link works, go [here](https://service.iris.edu/) — it's a great way to get access to seismic data.\n",
    "\n",
    "Plot all of the seismic stations returned by the query URL on your map from Deliverable 3. Add a legend as well.\n",
    "\n",
    "An example output of this deliverable, `lab_13_d4.pdf`, is provided in the `lab_13` directory. Once you've finished this deliverable your map should include the components from all previous deliverables (so, topography/bathymetry, depth to slab, sediment thickness contours, and seismic stations). "
   ]
  },
  {
   "cell_type": "code",
   "execution_count": null,
   "metadata": {},
   "outputs": [],
   "source": [
    "# plot\n",
    "# legend"
   ]
  }
 ],
 "metadata": {
  "celltoolbar": "Tags",
  "kernelspec": {
   "display_name": "Python 3 (ipykernel)",
   "language": "python",
   "name": "python3"
  },
  "language_info": {
   "codemirror_mode": {
    "name": "ipython",
    "version": 3
   },
   "file_extension": ".py",
   "mimetype": "text/x-python",
   "name": "python",
   "nbconvert_exporter": "python",
   "pygments_lexer": "ipython3",
   "version": "3.9.13"
  }
 },
 "nbformat": 4,
 "nbformat_minor": 4
}
