{
 "cells": [
  {
   "cell_type": "markdown",
   "metadata": {},
   "source": [
    "# More Programming Philosophy\n",
    "\n",
    "An important part of our work is reproducibility. Jon Claerbout (a geophysicist) was quoted in \"Wavelab and Reproducible research\" saying:\n",
    "\n",
    "> An article about computational science in a scientific publication is **not** the scholarship itself, it is merely **advertising** of the scholarship. The actual scholarship is the complete software development environment and the complete set of instructions which generated the figures.\n",
    "\n",
    "The implications of this statement are that: \n",
    "\n",
    "- publications should include data and code (one example is [Okada,1985](https://pubs.geoscienceworld.org/ssa/bssa/article/75/4/1135/118782), the code didn't quite come with the publication, but he distributed it freely.\n",
    "- figures should be reproducible by readers\n",
    "- write code that others can use in their work!\n",
    "\n",
    "What does this last point mean? In it's most basic way, we can start out with legibility, commenting. One this that Python enforces on programmers is good formatting. For better or worse, the formatting actually is part of the syntax (I am not a big fan, but then again, I always formatted stuff nicely). \n",
    "\n",
    "Here's an old Matlab example:\n",
    "\n",
    "    function fp = screw2d(x, xf, d, sdot)\n",
    "    %\n",
    "    % Computes fault-parallel slip rate for 2D screw dislocation\n",
    "    % with fault located at xf, with locking depth d, and slip rate sdot.\n",
    "    % Will compute slip rate at one or many locations x.\n",
    "    %\n",
    "    % x    column vector\n",
    "    % xf   scalar\n",
    "    % d    scalar\n",
    "    % sdot scalar\n",
    "    \n",
    "    if ( d==0 )\n",
    "        fp = sdot * 0.5 * sign( x-xf*ones(size(x) );\n",
    "    else\n",
    "        fp = sdot * atan2( (x-xf*ones(size(x)), d) / pi;\n",
    "    end\n",
    "\n",
    "This is well commented (you know what's going on), and neatly formatted. As opposed to this piece of code, that does exactly the same, but who would ever know what it does:\n",
    "\n",
    "    function fp = screw2d(x, xf, d, sdot)\n",
    "    if (d==0)fp=sdot*0.5*sign(x-xf*ones(size(x));else fp=sdot*atan2((x-xf*ones(size(x)),d)/pi;\n",
    "    end\n",
    "    \n",
    "Both codes do the same thing and are syntactically correct (in Matlab), but one is clearly more helpful than the other. Do that!\n",
    "\n",
    "As mentioned above, and we'll go into that later more, Python requires you to format well. This is it's own pitfall. This: "
   ]
  },
  {
   "cell_type": "code",
   "execution_count": 1,
   "metadata": {},
   "outputs": [
    {
     "name": "stdout",
     "output_type": "stream",
     "text": [
      "yes!\n",
      "x is one!\n"
     ]
    }
   ],
   "source": [
    "x = 1\n",
    "if (x == 1):\n",
    "    print(\"yes!\")\n",
    "    print(\"x is one!\")"
   ]
  },
  {
   "cell_type": "markdown",
   "metadata": {},
   "source": [
    "is different from this (try both examples with different values of x):"
   ]
  },
  {
   "cell_type": "code",
   "execution_count": 4,
   "metadata": {},
   "outputs": [
    {
     "name": "stdout",
     "output_type": "stream",
     "text": [
      "x is one!\n"
     ]
    }
   ],
   "source": [
    "x = 100\n",
    "if (x == 1):\n",
    "    print(\"yes!\")\n",
    "print(\"x is one!\")"
   ]
  },
  {
   "cell_type": "code",
   "execution_count": null,
   "metadata": {},
   "outputs": [],
   "source": []
  }
 ],
 "metadata": {
  "kernelspec": {
   "display_name": "Python 3",
   "language": "python",
   "name": "python3"
  },
  "language_info": {
   "codemirror_mode": {
    "name": "ipython",
    "version": 3
   },
   "file_extension": ".py",
   "mimetype": "text/x-python",
   "name": "python",
   "nbconvert_exporter": "python",
   "pygments_lexer": "ipython3",
   "version": "3.6.9"
  }
 },
 "nbformat": 4,
 "nbformat_minor": 4
}
