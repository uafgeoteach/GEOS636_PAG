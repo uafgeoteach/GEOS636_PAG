{
 "cells": [
  {
   "cell_type": "markdown",
   "metadata": {},
   "source": [
    "# **Lab 8 — Unix I**\n",
    "---\n",
    "\n",
    "## Introduction\n",
    "\n",
    "Unix and shell scripting are very useful tools that can work alongside your developing Python knowledge. In this lab you will exercise some of the commands we discussed in lecture, gain experience with using/understanding the help pages for other commands, and write some simple shell scripts.\n",
    "\n",
    "Your deliverable for this lab will be this notebook, with answers to questions completed as requested below. Please rename the notebook from `lab_08.ipynb` to `<last_name>_lab_08.ipynb` prior to submission. Download the completed file with **File $\\rightarrow$ Download**. Submit it to Canvas under the Lab 8 assignment.\n",
    "\n",
    "If you don't already have a terminal window up, you can start up a new one to use for this lab with **File $\\rightarrow$ New $\\rightarrow$ Terminal**.\n",
    "\n",
    "## Exercise I: Explore the files for the lab\n",
    "\n",
    "First, let's gather the files we'll be working with today. In a terminal window, enter\n",
    "```\n",
    "pwd\n",
    "```\n",
    "which will **p**rint the **w**orking **d**irectory. You should see\n",
    "```\n",
    "/home/jovyan\n",
    "```\n",
    "as the output. (If you see anything else, type `cd`, which will move you to the above directory.)\n",
    "\n",
    "You can then move into this lab's directory (which is within `GEOS636_PAG`) with\n",
    "```\n",
    "cd GEOS636_PAG/lab_08\n",
    "```\n",
    "and you can view the files contained in this directory with\n",
    "```\n",
    "ls\n",
    "```\n",
    "You should see a few files (e.g., `file1`, `file2`) listed in the output. Now you're located in the correct directory with the correct files, and you can begin the lab.\n",
    "\n",
    "## Deliverable I: Unix command scavenger hunt <font color='red'>(25 points)</font>\n",
    "\n",
    "Use the following commands to accomplish the tasks indicated:\n",
    "\n",
    "**(a)** `mkdir` — make a new directory called `tiny_snek`  \n",
    "**(b)** `touch` — create a new empty file in the `tiny_snek` directory - name is up to you  \n",
    "**(c)** `date` — print out the current date and time in seconds since 1970-01-01 00:00:00 UTC  \n",
    "**(d)** `cat` — put contents of `file1` and `file2` sequentially together into a new file `file3`  \n",
    "**(e)** `split` — break a 500-line file (`largefile.txt`) into multiple files that each have 50 lines  \n",
    "**(f)** `head` — print out the first 15 lines of the file `largefile2.txt`\n",
    "\n",
    "> Note that this exercise requires that you read the help documentation (or use Google)! To view the help for a command, use\n",
    "> ```\n",
    "> <command> --help\n",
    "> ```\n",
    "> and read what is printed in the terminal.\n",
    "\n",
    "Construct and run the above commands in the Jupyter Lab terminal. As a deliverable, please paste the commands that you ran into a **new code cell below**. I've done **(a)** for you as an example for formatting your answers.\n",
    "\n",
    "```text\n",
    "(a) mkdir tiny_snek\n",
    "```"
   ]
  },
  {
   "cell_type": "code",
   "execution_count": null,
   "metadata": {
    "tags": [
     "solution"
    ]
   },
   "outputs": [],
   "source": [
    "(b) touch tiny_snek/myfile\n",
    "(c) date +%s\n",
    "(d) cat file1 file2 > file3\n",
    "(e) split -l 50 largefile.txt\n",
    "(f) head -15 largefile2.txt"
   ]
  },
  {
   "cell_type": "markdown",
   "metadata": {},
   "source": [
    "## Deliverable II: Working with `lab8_station_list.txt` <font color='red'>(25 points)</font>\n",
    "\n",
    "Work through the following questions in a terminal window in Jupyter Lab, and paste the commands you used in a **new code cell** below.\n",
    "\n",
    "**(a)** First, using Unix tools, describe the contents of this file (what do you think it contains, how is it structured, how many lines). Provide the commands that you use to figure this out.\n",
    "\n",
    "**(b)** Write down 1 line of Unix commands that allows you to view the first 20 lines of file `lab8_station_list.txt` (station_name latitude longitude) and pipe the output of this into another command that can count the lines and show that, indeed, we have 20 lines.\n",
    "\n",
    "**(c)** Write down 1 piped sequence of commands to view a sorted version of the last 10 lines of the same file. Sort by station name in column 1.\n",
    "\n",
    "**(d)** Write down 1 piped sequence of commands that you would use to view the 15 northern-most stations in that file."
   ]
  },
  {
   "cell_type": "code",
   "execution_count": null,
   "metadata": {
    "tags": [
     "solution"
    ]
   },
   "outputs": [],
   "source": [
    "(a) head lab8_station_list.txt\n",
    "    wc -l lab8_station_list.txt\n",
    "    \n",
    "(b) head -20 lab8_station_list.txt | wc -l\n",
    "\n",
    "(c) tail -10 lab8_station_list.txt | sort -k 1\n",
    "\n",
    "(d) sort -k 2 lab8_station_list.txt | tail -15"
   ]
  },
  {
   "cell_type": "markdown",
   "metadata": {},
   "source": [
    "## Deliverable III: Working with a simple shell script <font color='red'>(25 points)</font>\n",
    "\n",
    "Run the simple bash script below (to do this, copy it into a new file named `lab8_script.sh` and change permissions to be executable with `chmod +x lab8_script.sh`).\n",
    "\n",
    "> To make a new file in Jupyter Lab, select **File $\\rightarrow$ New $\\rightarrow$ Text File**. You can rename the file by clicking on its name in the file broser. Alternatively, you can use `touch <filename>` in the terminal to create an empty file with the name you want, then click on this file in the file browser to edit.\n",
    "\n",
    "Also copy the script into a **new code cell below** and add comments to each line explaining what it is doing; provide a commented line at the end of the script that describes the output you get when running the script as well.\n",
    "\n",
    "```text\n",
    "#!/bin/bash\n",
    "directory=~/GEOS636_PAG/lab_08\n",
    "cd $directory\n",
    "pwd\n",
    "ls\n",
    "ls | wc -l\n",
    "```"
   ]
  },
  {
   "cell_type": "code",
   "execution_count": null,
   "metadata": {
    "tags": [
     "solution"
    ]
   },
   "outputs": [],
   "source": [
    "#!/bin/bash  # Tell OS which interpreter to use for parsing this script\n",
    "directory=~/GEOS636_PAG/lab_08  # Assign the path to lab_08/ to variable \"directory\"\n",
    "cd $directory  # Change to this directory\n",
    "pwd  # Print the working directory (the one we just moved to)\n",
    "ls  # List all files in this directory\n",
    "ls | wc -l  # Count the number of lines in the output of the ls command (i.e., number of files)\n",
    "# OUTPUT: Prints the lab_08/ path, then the filenames in lab_08/, then the number of files"
   ]
  },
  {
   "cell_type": "markdown",
   "metadata": {
    "tags": []
   },
   "source": [
    "## Deliverable IV: Writing a simple shell script <font color='red'>Only Required for 636 Students (25 points)</font>\n",
    "\n",
    "Write a bash script that:\n",
    "\n",
    "* takes the name of a file from the user,\n",
    "* checks whether the file exists,\n",
    "* and prints out text depending on whether the file:\n",
    "    - 1) exists,\n",
    "    - 2) does not exist,\n",
    "    - 3) exists but is empty.\n",
    "\n",
    "In your current `~/GEOS636_PAG/lab_08` directory check the filenames below.\n",
    "\n",
    "```text\n",
    "lab8_station_list.txt\n",
    "lab8_section6.txt\n",
    "lab8_section7.txt\n",
    "```\n",
    "\n",
    "The code cell below has some code for you to start from. Please copy the contents of your shell script into a **new code cell** below. Also note the output of your shell script for the three files above."
   ]
  },
  {
   "cell_type": "code",
   "execution_count": null,
   "metadata": {},
   "outputs": [],
   "source": [
    "#!/bin/bash\n",
    "\n",
    "if [ YOUR_CONDITION_GOES_HERE ]\n",
    "then\n",
    "    # Check if the file is empty or not\n",
    "else\n",
    "    echo 'File does not exist'\n",
    "fi"
   ]
  },
  {
   "cell_type": "code",
   "execution_count": null,
   "metadata": {
    "tags": [
     "solution"
    ]
   },
   "outputs": [],
   "source": [
    "#!/bin/bash\n",
    "\n",
    "if [ -e \"$1\" ]\n",
    "then\n",
    "    if [ -s \"$1\" ]\n",
    "    then\n",
    "        echo 'File exists and is not empty'\n",
    "    else\n",
    "        echo 'File exists but is empty'\n",
    "    fi\n",
    "else\n",
    "    echo 'File does not exist'\n",
    "fi"
   ]
  }
 ],
 "metadata": {
  "celltoolbar": "Tags",
  "kernelspec": {
   "display_name": "Python 3 (ipykernel)",
   "language": "python",
   "name": "python3"
  },
  "language_info": {
   "codemirror_mode": {
    "name": "ipython",
    "version": 3
   },
   "file_extension": ".py",
   "mimetype": "text/x-python",
   "name": "python",
   "nbconvert_exporter": "python",
   "pygments_lexer": "ipython3",
   "version": "3.9.13"
  }
 },
 "nbformat": 4,
 "nbformat_minor": 4
}
