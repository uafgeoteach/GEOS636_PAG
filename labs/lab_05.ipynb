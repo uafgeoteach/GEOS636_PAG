{
 "cells": [
  {
   "cell_type": "markdown",
   "metadata": {},
   "source": [
    "# **Lab 5 — NumPy and pandas**\n",
    "---\n",
    "\n",
    "## Introduction\n",
    "\n",
    "If you're going to be manipulating data mathematically within Python, you're almost certainly going to be using **NumPy**, a Python library for numerical computing. Likewise, for reading in CSV or Excel files and keeping them organized, **pandas** is an essential tool. This lab explores these two key Python libraries.\n",
    "\n",
    "Your deliverable for this lab will be this notebook, with **\"deliverables\" completed as requested below**. The \"exercises\" are exploratory and not graded. Please rename the notebook from `lab_05.ipynb` to `<last_name>_lab_05.ipynb` prior to submission. Download the file using **File $\\rightarrow$ Download .ipynb**. Submit it to Canvas under the Lab 5 assignment **no later than midnight Thursday, September 30th**.\n",
    "\n",
    "## Resources\n",
    "\n",
    "[NumPy](https://numpy.org/doc/stable/)  \n",
    "\n",
    "[pandas](https://pandas.pydata.org/docs/) \n",
    "\n",
    "[seaborn](https://seaborn.pydata.org/) \n",
    "\n",
    "## Exercise I: Introduction to math with NumPy\n",
    "\n",
    "In previous labs or HW, you've likely noticed the common command\n",
    "```python\n",
    "import numpy as np\n",
    "```\n",
    "which imports the NumPy library with name `np`. Then we access functions of NumPy using, for example, `np.sqrt()` for the square root function, or `np.mean()` for the mean. Here are links for some common commands:\n",
    "\n",
    "* [Mathematical functions](https://numpy.org/doc/stable/reference/routines.math.html)\n",
    "* [Statistics](https://numpy.org/doc/stable/reference/routines.statistics.html)\n",
    "\n",
    "For any of the commands listed above, you can run them by writing `np.command_name_here()`. Try out the following code. If any function is unclear, find the documentation at one of the two links in the list above. Note also the handy `np.min()` and `np.max()` functions."
   ]
  },
  {
   "cell_type": "code",
   "execution_count": 1,
   "metadata": {},
   "outputs": [
    {
     "name": "stdout",
     "output_type": "stream",
     "text": [
      "Collecting pandas\n",
      "  Using cached pandas-1.3.3-cp38-cp38-manylinux_2_17_x86_64.manylinux2014_x86_64.whl (11.5 MB)\n",
      "Collecting seaborn\n",
      "  Using cached seaborn-0.11.2-py3-none-any.whl (292 kB)\n",
      "Requirement already satisfied: pytz>=2017.3 in /opt/conda/lib/python3.8/site-packages (from pandas) (2021.1)\n",
      "Requirement already satisfied: python-dateutil>=2.7.3 in /opt/conda/lib/python3.8/site-packages (from pandas) (2.8.1)\n",
      "Requirement already satisfied: numpy>=1.17.3 in /opt/conda/lib/python3.8/site-packages (from pandas) (1.20.3)\n",
      "Requirement already satisfied: matplotlib>=2.2 in /home/jovyan/.local/lib/python3.8/site-packages (from seaborn) (3.4.3)\n",
      "Collecting scipy>=1.0\n",
      "  Using cached scipy-1.7.1-cp38-cp38-manylinux_2_5_x86_64.manylinux1_x86_64.whl (28.4 MB)\n",
      "Requirement already satisfied: six>=1.5 in /opt/conda/lib/python3.8/site-packages (from python-dateutil>=2.7.3->pandas) (1.15.0)\n",
      "Requirement already satisfied: cycler>=0.10 in /home/jovyan/.local/lib/python3.8/site-packages (from matplotlib>=2.2->seaborn) (0.10.0)\n",
      "Requirement already satisfied: pyparsing>=2.2.1 in /opt/conda/lib/python3.8/site-packages (from matplotlib>=2.2->seaborn) (2.4.7)\n",
      "Requirement already satisfied: kiwisolver>=1.0.1 in /home/jovyan/.local/lib/python3.8/site-packages (from matplotlib>=2.2->seaborn) (1.3.1)\n",
      "Requirement already satisfied: pillow>=6.2.0 in /opt/conda/lib/python3.8/site-packages (from matplotlib>=2.2->seaborn) (8.2.0)\n",
      "Installing collected packages: pandas, scipy, seaborn\n",
      "Successfully installed pandas-1.3.3 scipy-1.7.1 seaborn-0.11.2\n"
     ]
    }
   ],
   "source": [
    "#Run this cell to install the pandas and seaborn libraries.\n",
    "!pip install pandas seaborn"
   ]
  },
  {
   "cell_type": "code",
   "execution_count": 1,
   "metadata": {},
   "outputs": [
    {
     "name": "stdout",
     "output_type": "stream",
     "text": [
      "2.0\n",
      "0.8939966636005579\n",
      "1.0\n",
      "4.0 3.0\n",
      "\n",
      "a = [2, 4, -3]\n",
      "\n",
      "diff(a)\n",
      "[ 2 -7]\n",
      "\n",
      "mean(a)\n",
      "1.0\n",
      "\n",
      "abs(a)\n",
      "[2 4 3]\n",
      "\n",
      "sin(a)\n",
      "[ 0.90929743 -0.7568025  -0.14112001]\n",
      "\n",
      "min(a)\n",
      "-3\n"
     ]
    }
   ],
   "source": [
    "import numpy as np\n",
    "\n",
    "print(np.sqrt(4))\n",
    "print(np.sin(90))  # Trigonometric functions use radians, not degrees...\n",
    "print(np.sin(np.deg2rad(90)))  # ...so you must convert using deg2rad()\n",
    "print(np.ceil(3.78), np.floor(3.78))\n",
    "\n",
    "a = [2, 4, -3]\n",
    "print(f'\\na = {a}')\n",
    "\n",
    "print('\\ndiff(a)')\n",
    "print(np.diff(a))\n",
    "\n",
    "print('\\nmean(a)')\n",
    "print(np.mean(a))\n",
    "\n",
    "print('\\nabs(a)')\n",
    "print(np.abs(a))\n",
    "\n",
    "print('\\nsin(a)')\n",
    "print(np.sin(a))  # We can operate on arrays as well as scalars!\n",
    "\n",
    "print('\\nmin(a)')\n",
    "print(np.min(a))"
   ]
  },
  {
   "cell_type": "markdown",
   "metadata": {},
   "source": [
    "## Deliverable 1: Demonstrating NumPy functions\n",
    "\n",
    "In a **new code cell** below, perform the following operations using NumPy functions, and print — using `print()` — the results for each case. The only basic Python operator needed should be `+`; everything else should be NumPy! Remember that you can peruse the docs linked in Exercise I, or use Google, to find the relevant function.\n",
    "\n",
    "1. $\\cos(270^\\circ)$\n",
    "\n",
    "2. $\\sqrt{3^2 + 4^2}$ — use `np.power()` here, not `**`\n",
    "\n",
    "3. $\\sum a_i$ where $a = [1, 2, 3]$\n",
    "\n",
    "4. $\\ln(e^{47})$"
   ]
  },
  {
   "cell_type": "markdown",
   "metadata": {},
   "source": [
    "## Deliverable 2: Revisiting the tilt difference calculation using NumPy tools\n",
    "\n",
    "Recall Deliverable 4 from Lab 3, where you wrote code \"from scratch\" to calculate the mean and standard deviation of a volcanic tilt dataset. That was a useful learning exercise, but in reality we usually want to use the tools already available to us to make things simpler. In this deliverable, you'll recreate the tilt difference and uncertainty calculation, this time using NumPy functions. First, please run the code cell below to download the data and define the `y_tilt` variable:"
   ]
  },
  {
   "cell_type": "code",
   "execution_count": null,
   "metadata": {},
   "outputs": [],
   "source": [
    "!curl -O https://raw.githubusercontent.com/uafgeoteach/GEOS636_PAG/master/AV37_lava_lake.txt\n",
    "\n",
    "import numpy as np\n",
    "\n",
    "# Read text file\n",
    "data = np.genfromtxt(\"AV37_lava_lake.txt\", dtype=None, names=['date', 'x', 'y'], encoding='utf-8')\n",
    "\n",
    "# Define y_tilt\n",
    "y_tilt = data['y']"
   ]
  },
  {
   "cell_type": "markdown",
   "metadata": {},
   "source": [
    "**Some reminder notes and hints:**\n",
    "\n",
    "* Indices 0–4980 correspond to \"pre-event\" data, while indices 5640–end correspond to \"post-event\" data. You can use these to subset the `y_tilt` variable appropriately.\n",
    "\n",
    "* To find the uncertainty in your tilt change calculation, note the following error propagation rule. For a quantity $Q$ computed from the difference of quantities $a$ and $b$, i.e.\n",
    "$$Q = a - b\\,,$$\n",
    "the uncertainty in $Q$ is\n",
    "$$\\delta Q = \\sqrt{(\\delta a)^2 + (\\delta b)^2}\\,,$$\n",
    "where $\\delta a$ and $\\delta b$ are the uncertainties in quantities $a$ and $b$, respectively. You can use your calculated standard deviations as estimates for these. Note that this means your final answer should be of the form $Q \\pm \\delta Q$. You can read more about error propagation [here](http://ipl.physics.harvard.edu/wp-uploads/2013/03/PS3_Error_Propagation_sp13.pdf).\n",
    "\n",
    "In a **new code cell** below, include your code which calculates the change in tilt *as well as the uncertainty in that calculation*. Feel free to copy over any relevant code from Lab 3, but note that NumPy functions should be doing most of the work for you here!"
   ]
  },
  {
   "cell_type": "markdown",
   "metadata": {},
   "source": [
    "## Exercise II: Working with pandas\n",
    "\n",
    "pandas is a valuable tool for organizing tabular data within Python. It allows you to organize and manipulate your data more easily than just keeping things in lists/dictionaries. If you're used to working with CSV or Excel files, pandas provides easy ways to read, manipulate, and write these files. We'll learn more about pandas I/O (Input/Output) in a future lab. Here, we introduce pandas using some simple examples.\n",
    "\n",
    "First, run the below code to import the pandas library, define some dictionaries corresponding to station coordinates, and create a pandas [DataFrame object](https://pandas.pydata.org/pandas-docs/stable/reference/api/pandas.DataFrame.html):"
   ]
  },
  {
   "cell_type": "code",
   "execution_count": 1,
   "metadata": {},
   "outputs": [
    {
     "name": "stdout",
     "output_type": "stream",
     "text": [
      "   Name     Lat      Lon\n",
      "0   SBY  33.975 -107.181\n",
      "1   LEM  34.166 -106.972\n",
      "2  SC01  34.068 -106.967\n"
     ]
    }
   ],
   "source": [
    "import pandas as pd\n",
    "\n",
    "station_1 = {'Name': 'SBY', 'Lat': 33.975, 'Lon': -107.181}\n",
    "station_2 = {'Name': 'LEM', 'Lat': 34.166, 'Lon': -106.972}\n",
    "station_3 = {'Name': 'SC01', 'Lat': 34.068, 'Lon': -106.967}\n",
    "\n",
    "df = pd.DataFrame([station_1, station_2, station_3])\n",
    "\n",
    "print(df)"
   ]
  },
  {
   "cell_type": "markdown",
   "metadata": {},
   "source": [
    "In the above code, we created a DataFrame using the command `pd.DataFrame()` and supplying it with a list of dictionaries. The keys in the dictionaries became column headers, and the values became column entries. You can think of a DataFrame as a spreadsheet like Excel, but stored \"in-memory\" in Python. You can extract columns of the DataFrame by name, similar to dictionaries. You can also select rows. A single column of a DataFrame is called a [Series](https://pandas.pydata.org/pandas-docs/stable/reference/api/pandas.Series.html) in pandas-speak."
   ]
  },
  {
   "cell_type": "code",
   "execution_count": null,
   "metadata": {},
   "outputs": [],
   "source": [
    "print(df['Name'])  # The Name column"
   ]
  },
  {
   "cell_type": "code",
   "execution_count": null,
   "metadata": {},
   "outputs": [],
   "source": [
    "print(df.loc[1])  # The second row"
   ]
  },
  {
   "cell_type": "markdown",
   "metadata": {},
   "source": [
    "As shown above, you can select a row by providing its index via `df.loc[index]`. You can also select rows based upon a condition. The syntax for this is `df.loc[df['<column_name>'] <condition>]`. **Note that this assumes your DataFrame is called `df`.** Here are a few examples:"
   ]
  },
  {
   "cell_type": "code",
   "execution_count": null,
   "metadata": {},
   "outputs": [],
   "source": [
    "print(df.loc[df['Lat'] > 34])  # Only show rows for which the latitude is larger than 34"
   ]
  },
  {
   "cell_type": "code",
   "execution_count": null,
   "metadata": {},
   "outputs": [],
   "source": [
    "print(df.loc[df['Name'] == 'SBY'])  # Only show the row with Name = SBY"
   ]
  },
  {
   "cell_type": "code",
   "execution_count": null,
   "metadata": {},
   "outputs": [],
   "source": [
    "print(df.loc[df['Name'] == 'LEM']['Lat'])  # Show the latitude of station LEM"
   ]
  },
  {
   "cell_type": "markdown",
   "metadata": {},
   "source": [
    "## Deliverable 3: Working with a DataFrame\n",
    "\n",
    "Now it's your turn to play with a DataFrame! For this deliverable we'll be working with some data on passenger flights from 1949–1960. Run the below cell to load the data into a DataFrame called `flights`."
   ]
  },
  {
   "cell_type": "code",
   "execution_count": 2,
   "metadata": {},
   "outputs": [
    {
     "name": "stdout",
     "output_type": "stream",
     "text": [
      "     year month  passengers\n",
      "0    1949   Jan         112\n",
      "1    1949   Feb         118\n",
      "2    1949   Mar         132\n",
      "3    1949   Apr         129\n",
      "4    1949   May         121\n",
      "..    ...   ...         ...\n",
      "139  1960   Aug         606\n",
      "140  1960   Sep         508\n",
      "141  1960   Oct         461\n",
      "142  1960   Nov         390\n",
      "143  1960   Dec         432\n",
      "\n",
      "[144 rows x 3 columns]\n"
     ]
    }
   ],
   "source": [
    "import seaborn as sns\n",
    "flights = sns.load_dataset('flights')\n",
    "print(flights)"
   ]
  },
  {
   "cell_type": "markdown",
   "metadata": {},
   "source": [
    "As you can see, this is a table with three columns and many rows. For each of the following prompts, write an expression which prints the requested portion of the `flights` DataFrame. For some queries the printed output may be automatically shortened with `...` in between rows, don't worry about this I am just looking to see if the query was done correctly. Please do this in a **new code cell** below.\n",
    "\n",
    "1. All rows where less than 120 passengers flew.\n",
    "2. All rows corresponding to the month of November.\n",
    "3. All rows where an even number of passengers flew."
   ]
  },
  {
   "cell_type": "markdown",
   "metadata": {},
   "source": [
    "## Deliverable 4: Calculations with Pandas\n",
    "\n",
    "Now that you've gotten your feet wet with extracting rows using conditions, it's time to get a little more involved. Please answer the following questions in a **new code cell** below.\n",
    "\n",
    "> **Hint:** Note that the pandas Series object (remember, a Series is a *column* of a DataFrame) has many handy methods for computations, such as `sum()`. For example, if you have a Series `s` you can find the sum of the values using `s.sum()` or the minimum value with `s.min()`. Another handy method is `s.unique()`, which returns the unique values of `s`. \n",
    "\n",
    "1. How many passengers flew in 1957?\n",
    "2. In 1952, which month was the most popular for flying? (**Hint:** Define a new DataFrame corresponding to just 1952. Then look for the month with the maximum number of passengers.)\n",
    "3. **[BONUS — up to 1 pt]** Overall, between 1949–1960 (the time range of the dataset) which month was the most popular for flying?"
   ]
  }
 ],
 "metadata": {
  "celltoolbar": "Tags",
  "kernelspec": {
   "display_name": "Python 3",
   "language": "python",
   "name": "python3"
  },
  "language_info": {
   "codemirror_mode": {
    "name": "ipython",
    "version": 3
   },
   "file_extension": ".py",
   "mimetype": "text/x-python",
   "name": "python",
   "nbconvert_exporter": "python",
   "pygments_lexer": "ipython3",
   "version": "3.8.6"
  }
 },
 "nbformat": 4,
 "nbformat_minor": 4
}
