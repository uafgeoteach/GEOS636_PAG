{
 "cells": [
  {
   "cell_type": "markdown",
   "metadata": {},
   "source": [
    "# **Lab 5 — NumPy and pandas**\n",
    "---\n",
    "\n",
    "## Introduction\n",
    "\n",
    "If you're going to be manipulating data mathematically within Python, you're almost certainly going to be using **NumPy**, a Python library for numerical computing. Likewise, for reading in CSV or Excel files and keeping them organized, **pandas** is an essential tool. This lab explores these two key Python libraries.\n",
    "\n",
    "Your deliverable for this lab will be this notebook, with **\"deliverables\" completed as requested below**. The \"exercises\" are exploratory and not graded. Please rename the notebook from `lab_05.ipynb` to `<last_name>_lab_05.ipynb` prior to submission.\n",
    "## Resources\n",
    "\n",
    "[NumPy](https://numpy.org/doc/stable/)  \n",
    "\n",
    "[pandas](https://pandas.pydata.org/docs/) \n",
    "\n",
    "## Exercise I: Introduction to math with NumPy\n",
    "\n",
    "In previous labs or HW, you've likely noticed the common command\n",
    "```python\n",
    "import numpy as np\n",
    "```\n",
    "which imports the NumPy library under the name `np`. Then we access functions of NumPy using, for example, `np.sqrt()` for the square root function, or `np.mean()` for the mean. Here are links for some common commands:\n",
    "\n",
    "* [Mathematical functions](https://numpy.org/doc/stable/reference/routines.math.html)\n",
    "* [Statistics](https://numpy.org/doc/stable/reference/routines.statistics.html)\n",
    "\n",
    "For any of the commands listed above, you can run them by writing `np.command_name_here()`. Try out the following code. If any function is unclear, find the documentation at one of the two links in the list above. Note also the handy `np.min()` and `np.max()` functions."
   ]
  },
  {
   "cell_type": "code",
   "execution_count": null,
   "metadata": {},
   "outputs": [],
   "source": [
    "import numpy as np\n",
    "\n",
    "print(np.sqrt(4))\n",
    "print(np.sin(90))  # Trigonometric functions use radians, not degrees...\n",
    "print(np.sin(np.deg2rad(90)))  # ...so you must convert using deg2rad()\n",
    "print(np.ceil(3.78), np.floor(3.78))\n",
    "\n",
    "a = [2, 4, -3]\n",
    "print(f'\\na = {a}')\n",
    "\n",
    "print('\\ndiff(a)')\n",
    "print(np.diff(a))\n",
    "\n",
    "print('\\nmean(a)')\n",
    "print(np.mean(a))\n",
    "\n",
    "print('\\nabs(a)')\n",
    "print(np.abs(a))\n",
    "\n",
    "print('\\nsin(a)')\n",
    "print(np.sin(a))  # We can operate on arrays as well as scalars!\n",
    "\n",
    "print('\\nmin(a)')\n",
    "print(np.min(a))"
   ]
  },
  {
   "cell_type": "markdown",
   "metadata": {},
   "source": [
    "## Deliverable 1: Demonstrating NumPy functions <font color='red'>(25 points)</font>\n",
    "\n",
    "In a **new code cell** below, perform the following operations using NumPy functions, and print — using `print()` — the results for each case. The only basic Python operator needed should be `+`; everything else should be NumPy! Remember that you can peruse the docs linked in Exercise I, or use Google, to find the relevant function.\n",
    "\n",
    "1. $\\cos(270^\\circ)$\n",
    "\n",
    "2. $\\sqrt{3^2 + 4^2}$ — use `np.power()` here, not `**`\n",
    "\n",
    "3. $\\sum a_i$ where $a = [1, 2, 3]$\n",
    "\n",
    "4. $\\ln(e^{47})$"
   ]
  },
  {
   "cell_type": "markdown",
   "metadata": {},
   "source": [
    "## Deliverable 2: Revisiting the tilt difference calculation using NumPy tools <font color='red'>(25 points)</font>\n",
    "\n",
    "Recall Deliverable 4 from Lab 3, where you debugged code to calculate the mean and standard deviation of a volcanic tilt dataset written in pure Python. That was a useful learning exercise, but in reality we usually want to use the tools already available to us to make things simpler. In this deliverable, you'll recreate the tilt difference and uncertainty calculation, this time using NumPy functions. First, please run the code cell below to download the data and define the `y_tilt` variable:"
   ]
  },
  {
   "cell_type": "code",
   "execution_count": null,
   "metadata": {},
   "outputs": [],
   "source": [
    "!curl -O https://raw.githubusercontent.com/uafgeoteach/GEOS636_PAG/master/AV37_lava_lake.txt\n",
    "\n",
    "import numpy as np\n",
    "\n",
    "# Read text file\n",
    "data = np.genfromtxt(\"AV37_lava_lake.txt\", dtype=None, names=['date', 'x', 'y'], encoding='utf-8')\n",
    "\n",
    "# Define y_tilt\n",
    "y_tilt = data['y']"
   ]
  },
  {
   "cell_type": "markdown",
   "metadata": {},
   "source": [
    "**Some reminder notes and hints:**\n",
    "\n",
    "* Indices 0–4980 correspond to \"pre-event\" data, while indices 5640–end correspond to \"post-event\" data. You can use these to subset the `y_tilt` variable appropriately.\n",
    "\n",
    "* To find the uncertainty in your tilt change calculation, note the following error propagation rule. For a quantity $Q$ computed from the difference of quantities $a$ and $b$, i.e.\n",
    "$$Q = a - b\\,,$$\n",
    "the uncertainty in $Q$ is\n",
    "$$\\delta Q = \\sqrt{(\\delta a)^2 + (\\delta b)^2}\\,,$$\n",
    "where $\\delta a$ and $\\delta b$ are the uncertainties in quantities $a$ and $b$, respectively. You can use your calculated standard deviations as estimates for these. Note that this means your final answer should be of the form $Q \\pm \\delta Q$. You can read more about error propagation [here](http://ipl.physics.harvard.edu/wp-uploads/2013/03/PS3_Error_Propagation_sp13.pdf).\n",
    "\n",
    "In a **new code cell** below, include your code which calculates the change in tilt *as well as the uncertainty in that calculation*. Feel free to copy over any relevant code from Lab 3, but note that NumPy functions should be doing most of the work for you here! You should not use the mean and standard deviation functions from Lab 3."
   ]
  },
  {
   "cell_type": "markdown",
   "metadata": {},
   "source": [
    "## Exercise II: Working with pandas\n",
    "\n",
    "pandas is a valuable tool for organizing tabular data within Python. It allows you to organize and manipulate your data more easily than just keeping things in lists/dictionaries. If you're used to working with CSV or Excel files, pandas provides easy ways to read, manipulate, and write these files. We'll learn more about pandas I/O (Input/Output) in a future lab. Here, we introduce pandas using some simple examples.\n",
    "\n",
    "First, run the below code to import the pandas library, define some dictionaries corresponding to station coordinates, and create a pandas [DataFrame object](https://pandas.pydata.org/pandas-docs/stable/reference/api/pandas.DataFrame.html):"
   ]
  },
  {
   "cell_type": "code",
   "execution_count": null,
   "metadata": {},
   "outputs": [],
   "source": [
    "import pandas as pd\n",
    "\n",
    "station_1 = {'Name': 'SBY', 'Lat': 33.975, 'Lon': -107.181}\n",
    "station_2 = {'Name': 'LEM', 'Lat': 34.166, 'Lon': -106.972}\n",
    "station_3 = {'Name': 'SC01', 'Lat': 34.068, 'Lon': -106.967}\n",
    "\n",
    "df = pd.DataFrame([station_1, station_2, station_3])\n",
    "\n",
    "print(df)"
   ]
  },
  {
   "cell_type": "markdown",
   "metadata": {},
   "source": [
    "In the above code, we created a DataFrame using the command `pd.DataFrame()` and supplying it with a list of dictionaries. The keys in the dictionaries became column headers, and the values became column entries. You can think of a DataFrame as a spreadsheet like Excel, but stored \"in-memory\" in Python. You can extract columns of the DataFrame by name, similar to dictionaries. You can also select rows. A single column of a DataFrame is called a [Series](https://pandas.pydata.org/pandas-docs/stable/reference/api/pandas.Series.html) in pandas-speak."
   ]
  },
  {
   "cell_type": "code",
   "execution_count": null,
   "metadata": {},
   "outputs": [],
   "source": [
    "print(df['Name'])  # The Name column"
   ]
  },
  {
   "cell_type": "code",
   "execution_count": null,
   "metadata": {},
   "outputs": [],
   "source": [
    "print(df.loc[1])  # The second row"
   ]
  },
  {
   "cell_type": "markdown",
   "metadata": {},
   "source": [
    "As shown above, you can select a row by providing its index via `df.loc[index]`. You can also select rows based upon a condition. The syntax for this is `df.loc[df['<column_name>'] <condition>]`. **Note that this assumes your DataFrame is called `df`.** Here are a few examples:"
   ]
  },
  {
   "cell_type": "code",
   "execution_count": null,
   "metadata": {},
   "outputs": [],
   "source": [
    "print(df.loc[df['Lat'] > 34])  # Only show rows for which the latitude is larger than 34"
   ]
  },
  {
   "cell_type": "code",
   "execution_count": null,
   "metadata": {},
   "outputs": [],
   "source": [
    "print(df.loc[df['Name'] == 'SBY'])  # Only show the row with Name = SBY"
   ]
  },
  {
   "cell_type": "code",
   "execution_count": null,
   "metadata": {},
   "outputs": [],
   "source": [
    "print(df.loc[df['Name'] == 'LEM']['Lat'])  # Show the latitude of station LEM"
   ]
  },
  {
   "cell_type": "markdown",
   "metadata": {},
   "source": [
    "## Deliverable 3: Working with a DataFrame <font color='red'>(25 points)</font>\n",
    "\n",
    "Now it's your turn to play with a DataFrame! For this deliverable we'll be working with relative global mean sea level data processed by the Sea Level Research Group at the University of Colorado (https://sealevel.colorado.edu/). Run the below cell to load the data into a DataFrame called `seaLevel`."
   ]
  },
  {
   "cell_type": "code",
   "execution_count": null,
   "metadata": {},
   "outputs": [],
   "source": [
    "seaLevel = pd.read_csv(\"./gmsl_2021rel2_seasons_rmvd.csv\", comment=\"#\")\n",
    "seaLevel['level_change'] = seaLevel['relative_sea_level'].diff()\n",
    "print(seaLevel)"
   ]
  },
  {
   "cell_type": "markdown",
   "metadata": {},
   "source": [
    "As you can see, this is a table with four columns and many rows. Each row is a relative sea level observation. The first column gives the date corresponding to each observation as a decimal year, the second column gives the relative sea level in millimeters, the third column gives the the name of the satellite which acquired the sea level data, and the fourth column is the difference between each observation and the preceeding one. For each of the following prompts, write an expression which prints the requested portion of the `seaLevel` DataFrame. For some queries the printed output may be automatically shortened with `...` in between rows, don't worry about this I am just looking to see if the query was done correctly. Please do this in a **new code cell** below.\n",
    "\n",
    "1. All rows from before 2003.\n",
    "2. All rows with data taken from the Jason-2 satellite."
   ]
  },
  {
   "cell_type": "markdown",
   "metadata": {},
   "source": [
    "## Deliverable 4: Calculations with Pandas <font color='red'>(25 points)</font>\n",
    "\n",
    "Now that you've gotten your feet wet with extracting rows using conditions, it's time to get a little more involved. Please answer the following questions in a **new code cell** below.\n",
    "\n",
    "> **Hint:** Note that the pandas Series object (remember, a Series is a *column* of a DataFrame) has many handy methods for computations, such as `sum()` and `count()`. For example, if you have a Series `s` you can find the sum of the values using `s.sum()` or the minimum value with `s.min()`. Another handy method is `s.unique()`, which returns the unique values of `s`. \n",
    "\n",
    "1. How many observations in the dataset are from the TOPEX satellite?\n",
    "2. Estimate how much sea level rise has occured between 2000 and now using the level_change column.\n",
    "3. Print a list of the satellites used to acquire this dataset, no repeats."
   ]
  },
  {
   "cell_type": "markdown",
   "metadata": {},
   "source": [
    "## Deliverable 5: Fit a function <font color='red'>Only Required for 636 Students (20 points)</font>\n",
    "\n",
    "The code below should fit a line to the sea level rise data and then plot the result. I've completely forgotten how to use np.polyfit and np.polyval, however, and will need you to give them the correct arguments in order for the code to work. Once you have the plot working please also print out the rate of sea level rise derived from the fit."
   ]
  },
  {
   "cell_type": "code",
   "execution_count": null,
   "metadata": {},
   "outputs": [],
   "source": [
    "import matplotlib.pyplot as plt\n",
    "\n",
    "# Polynomial fit... degree 1\n",
    "p = np.polyfit()\n",
    "\n",
    "# Evaluate at all time steps for plotting\n",
    "y = np.polyval()\n",
    "\n",
    "# Make the plot\n",
    "plt.figure(figsize=(10, 6)) # initialize a figure and make it kind of big\n",
    "plt.plot(seaLevel[\"date\"], seaLevel[\"relative_sea_level\"], 'k.') # plot the data with black dots\n",
    "plt.plot(seaLevel[\"date\"], y, 'r-') # plot the linear fit as a red line\n",
    "plt.xlabel(\"Year\")\n",
    "plt.ylabel(\"Relative Sea Level (mm)\")\n",
    "plt.legend([\"Data\", \"Linear Fit\"])\n",
    "plt.show()"
   ]
  }
 ],
 "metadata": {
  "celltoolbar": "Tags",
  "kernelspec": {
   "display_name": "Python 3 (ipykernel)",
   "language": "python",
   "name": "python3"
  },
  "language_info": {
   "codemirror_mode": {
    "name": "ipython",
    "version": 3
   },
   "file_extension": ".py",
   "mimetype": "text/x-python",
   "name": "python",
   "nbconvert_exporter": "python",
   "pygments_lexer": "ipython3",
   "version": "3.9.13"
  }
 },
 "nbformat": 4,
 "nbformat_minor": 4
}
