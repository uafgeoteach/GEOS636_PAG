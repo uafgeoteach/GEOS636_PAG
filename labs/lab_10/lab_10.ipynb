{
 "cells": [
  {
   "cell_type": "markdown",
   "metadata": {},
   "source": [
    "# **Lab 10 — `awk`, `grep`, and `sed`**\n",
    "---\n",
    "\n",
    "## Introduction\n",
    "\n",
    "In this lab we will practice using `awk`, `grep`, and `sed` command line tools. These tools all share a common function: Text processing.\n",
    "\n",
    "Your deliverable for this lab will be this notebook, with answers to questions completed as requested below. Please rename the notebook from `lab_10.ipynb` to `<last_name>_lab_10.ipynb` prior to submission. Download the completed file by checking its box in the JupyterHub file browser and selecting **Download** from the menu that appears. Submit it to Blackboard, **along with your output plots for Task 2**, under the Lab 10 assignment **no later than 5pm Thursday, November 5th**.\n",
    "\n",
    "Start up a new terminal window to use for this lab from JupyterHub via **New $\\rightarrow$ Terminal**.\n",
    "\n",
    "## Task 1: Basic `awk` exercises using the command line\n",
    "\n",
    "We will work with the file called [`event_list.txt`](http://www.grapenthin.org/teaching/geop501/download/lab10/event_list.txt) (list of earthquakes in October 2017 around the world) for these basic exercises in Task 1. Use `curl -O` to download `event_list.txt`. You can use `head` to examine the file.\n",
    "\n",
    "Use `awk` to answer the questions below. Copy your command for each question into a **new code cell below** so we can check that your commands work. For each task you will work on the original file downloaded!\n",
    "\n",
    "1. Reformat the file so that it contains only the following columns (separated by commas), ordered as:\n",
    "   ```\n",
    "   time, latitude, longitude, depth, magnitude\n",
    "   ```\n",
    "2. Print columns 1, 2, and 4 of the original file using a space as the field separator.\n",
    "3. Print time (column 6) if rms (measure of location error in column 3) < 0.2.\n",
    "4. Using only `awk`, pull out the events that are located within this region of Oklahoma:\n",
    "   ```\n",
    "   max_lat = 37.0\n",
    "   max_lon = -96.0\n",
    "   min_lat = 34.5\n",
    "   min_lon = -100.0\n",
    "   ```"
   ]
  },
  {
   "cell_type": "markdown",
   "metadata": {},
   "source": [
    "## Task 2: `grep` and `sed` practice\n",
    "\n",
    "Use `grep` and `sed` to answer the questions below. Copy your command for each question into a **new code cell below** so we can check that your commands work.\n",
    "\n",
    "1. Use the file [`CDVV.pbo.nam08.csv`](http://www.grapenthin.org/teaching/geop501/download/lab10/CDVV.pbo.nam08.csv) and find all lines with `-9999` in them. Note that \"-\" indicates a range of values in the regular expressions that `grep` uses and you'll have to figure out how to \"escape\" it.\n",
    "\n",
    "2. Use `sed` to replace all occurrences of `-9999` in that same file with `NaN`, and save to a new file. Test with `grep` that the replacement was actually made, such that you get:\n",
    "   ```\n",
    "   2005-11-28,0.55, NaN, 9.21, 1.54, 1.41, 5.88, repro,\n",
    "   2005-12-11,0.01, -0.49, NaN, 1.05, 0.96, 4.01, repro,\n",
    "   2006-01-07,NaN, NaN, NaN, NaN, NaN, NaN, repro,\n",
    "   2006-04-10,NaN, -2.58, 10.65, NaN, 1.49, 6.11, repro,\n",
    "   ```\n",
    "   Plot both files using the Python script [`plot_gps_data.py`](https://raw.githubusercontent.com/uafgeoteach/GEOS636_PAG/master/labs/lab_10/plot_gps_data.py) as a basis. You will need to look at the script code to understand how to use it.\n",
    "\n",
    "**Turn in both plots for question 2 in addition to your notebook file.**"
   ]
  }
 ],
 "metadata": {
  "celltoolbar": "Tags",
  "kernelspec": {
   "display_name": "Python 3",
   "language": "python",
   "name": "python3"
  },
  "language_info": {
   "codemirror_mode": {
    "name": "ipython",
    "version": 3
   },
   "file_extension": ".py",
   "mimetype": "text/x-python",
   "name": "python",
   "nbconvert_exporter": "python",
   "pygments_lexer": "ipython3",
   "version": "3.6.9"
  }
 },
 "nbformat": 4,
 "nbformat_minor": 4
}
