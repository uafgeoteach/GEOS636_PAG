{
 "cells": [
  {
   "cell_type": "markdown",
   "metadata": {
    "tags": []
   },
   "source": [
    "# **Lab 5 — Debugging**\n",
    "---\n",
    "\n",
    "## Introduction\n",
    "\n",
    "If you're going to be manipulating data mathematically within Python, you're almost certainly going to be using **NumPy**, a Python library for numerical computing. Likewise, for reading in CSV or Excel files and keeping them organized, **pandas** is an essential tool. This lab explores these two key Python libraries.\n",
    "\n",
    "Your deliverable for this lab will be this notebook, with **\"deliverables\" completed as requested below**. The \"exercises\" are exploratory and not graded. Please rename the notebook from `lab_05_debugging.ipynb` to `<last_name>_lab_05.ipynb` prior to submission.\n",
    "\n",
    "## Resources\n",
    "\n",
    "[unit testing](https://docs.python.org/3/library/unittest.html) \\\n",
    "[doc strings](https://peps.python.org/pep-0257/)\n",
    "\n",
    "## Exercise I: Try `print_debug()`\n",
    "\n",
    "In the code cell below you'll find the `print_debug()` function that we introduced in class and some calls to it within the `sum_of_elements` function we've discussed in the examples. Experiment with the code and execute it after each change; a few things to try:\n",
    "\n",
    "* Experiment with the `DEBUG` flag, set its values to `True` and `False`\n",
    "* Comment out (using the comment sign `#`) some the statements in the for loop\n",
    "* Change the text in some of the `print_debug` function calls\n",
    "* What happens if you remove the `\\t` from the `print` statement in `print_debug`? Neat, eh?\n",
    "* set `DEBUG = False` and comment out the line `if(DEBUG):` in the `print_debug` function\n",
    "\n",
    "\n",
    "Investigate the output closely after each change."
   ]
  },
  {
   "cell_type": "code",
   "execution_count": 1,
   "metadata": {
    "tags": []
   },
   "outputs": [],
   "source": [
    "#Run this cell first! This cell allows the output of all lines to be read, not just the last one.\n",
    "from IPython.core.interactiveshell import InteractiveShell\n",
    "InteractiveShell.ast_node_interactivity = \"all\""
   ]
  },
  {
   "cell_type": "code",
   "execution_count": 2,
   "metadata": {},
   "outputs": [
    {
     "name": "stdout",
     "output_type": "stream",
     "text": [
      "\tDEBUG: in sum_of_elements\n",
      "\tDEBUG: 1 = 0 + 1\n",
      "\tDEBUG: s =  1\n",
      "\tDEBUG: 24 = 1 + 23\n",
      "\tDEBUG: s =  24\n",
      "\tDEBUG: 58 = 24 + 34\n",
      "\tDEBUG: s =  58\n",
      "\tDEBUG: end sum_of_elements\n",
      "-----------------\n",
      "RESULT:\n",
      "58\n"
     ]
    }
   ],
   "source": [
    "#this is the global debug flag that can take the values\n",
    "#  True:  display all debug output\n",
    "#  False: don't display debug output\n",
    "DEBUG = True\n",
    "\n",
    "def print_debug(to_print):\n",
    "    if(DEBUG):\n",
    "        print(\"\\tDEBUG: %s\" % to_print)\n",
    "\n",
    "def sum_of_elements(in_array):\n",
    "    \"\"\"\n",
    "    sum_of_elements calculates the sum of elements of a given input array\n",
    "\n",
    "    :param in_array: list of numerical values to be summed\n",
    "    :return: sum of the elements in the input array\n",
    "    \"\"\" \n",
    "    print_debug(\"in sum_of_elements\")\n",
    "\n",
    "    s = 0\n",
    "    for x in in_array:\n",
    "        print_debug(\"%s = %s + %s\" % (s+x, s, x))\n",
    "        s = s + x    \n",
    "        print_debug(\"s =  %s\" % (s))\n",
    "\n",
    "    print_debug(\"end sum_of_elements\")\n",
    "\n",
    "    return s\n",
    "\n",
    "### Main Code\n",
    "x = sum_of_elements([1, 23, 34])\n",
    "print(\"-----------------\")\n",
    "print(\"RESULT:\")\n",
    "print(x)        \n",
    "        "
   ]
  },
  {
   "cell_type": "markdown",
   "metadata": {},
   "source": [
    "## Deliverable 1: Echoing <font color='red'>(25 points)</font>\n",
    "\n",
    "<font color='red'>Make sure that `if(DEBUG):` in the `print_debug` is **not** commented out.</font>\n",
    "\n",
    "The code cell below contains a function that has some bugs. We wrote out some tests below that specify the expected behavior and provide the current results. The [doc string](https://peps.python.org/pep-0257/) after the function definition specifies the expected results.\n",
    "\n",
    "**In the code cell below, add a few meaningful `print` or `print_debug` calls in the `if-elif-else` bodies that tell you what the expected behavior is. Fix the code to do what it is supposed to.**\n",
    "\n",
    "If you also want to include variable values, you can perhaps most easily do this by adapting this to your needs:\n",
    "\n",
    "```\n",
    "        print_debug(\"SOME TEXT YOU WANT TO STATE  %s\" % (x))\n",
    "```\n",
    "\n",
    "The `%s` will ensure the value in variable `x` is converted to a string and properly included in the output string."
   ]
  },
  {
   "cell_type": "code",
   "execution_count": 3,
   "metadata": {
    "tags": []
   },
   "outputs": [
    {
     "name": "stdout",
     "output_type": "stream",
     "text": [
      "This call should return 5. We get: 4\n",
      "This call should return 1. We get: 0\n",
      "This call should return None. We get: 1\n"
     ]
    }
   ],
   "source": [
    "def larger(x, y):\n",
    "    \"\"\"\n",
    "    larger(x, y) returns the larger of two given arguments\n",
    "\n",
    "    :param x: numerical value\n",
    "    :param y: numerical value\n",
    "    :return: x if x is larger than y; y if y is larger than x; None if x is equal to y.\n",
    "    \"\"\" \n",
    "    if x < y:\n",
    "        return x\n",
    "    elif y < x:\n",
    "        return y\n",
    "    else:\n",
    "        return 1\n",
    "    \n",
    "    \n",
    "print(\"This call should return 5. We get: %d\" % larger(4, 5))\n",
    "print(\"This call should return 1. We get: %d\" % larger(1, 0))\n",
    "print(\"This call should return None. We get: %s\" % larger(1, 1))"
   ]
  },
  {
   "cell_type": "markdown",
   "metadata": {
    "tags": []
   },
   "source": [
    "## Deliverable 2: Unit Testing <font color='red'>(25 points)</font>\n",
    "\n",
    "The code below presents a simple unit test of the two functions we have defined further up in this notebook: `sum_of_elements()` and `larger()`. The problem is, these unit tests fail, because whoever wrote them didn't pay attention and messed up the comparison values.\n",
    "\n",
    "**In the code cell below, fix the two unit tests that are already there. Then add two more tests to the `test_larger()` function such that all three possible conditions for the `larger()` function are tested**"
   ]
  },
  {
   "cell_type": "code",
   "execution_count": 5,
   "metadata": {
    "tags": []
   },
   "outputs": [
    {
     "name": "stderr",
     "output_type": "stream",
     "text": [
      "test_larger (__main__.TestOurFunctions) ... FAIL\n",
      "test_sum (__main__.TestOurFunctions) ... FAIL\n",
      "\n",
      "======================================================================\n",
      "FAIL: test_larger (__main__.TestOurFunctions)\n",
      "----------------------------------------------------------------------\n",
      "Traceback (most recent call last):\n",
      "  File \"/tmp/ipykernel_525/2926600891.py\", line 12, in test_larger\n",
      "    self.assertEqual( larger(4,5), None )\n",
      "AssertionError: 5 != None\n",
      "\n",
      "======================================================================\n",
      "FAIL: test_sum (__main__.TestOurFunctions)\n",
      "----------------------------------------------------------------------\n",
      "Traceback (most recent call last):\n",
      "  File \"/tmp/ipykernel_525/2926600891.py\", line 9, in test_sum\n",
      "    self.assertEqual( sum_of_elements([1, 2, 4]), 9 )\n",
      "AssertionError: 7 != 9\n",
      "\n",
      "----------------------------------------------------------------------\n",
      "Ran 2 tests in 0.004s\n",
      "\n",
      "FAILED (failures=2)\n"
     ]
    },
    {
     "data": {
      "text/plain": [
       "<unittest.main.TestProgram at 0x7f850088e320>"
      ]
     },
     "execution_count": 5,
     "metadata": {},
     "output_type": "execute_result"
    }
   ],
   "source": [
    "import unittest\n",
    "\n",
    "# we set DEBUG to false, because we don't want all the output inside sum_of_elements\n",
    "DEBUG = False\n",
    "\n",
    "class TestOurFunctions(unittest.TestCase):\n",
    "    \n",
    "    def test_sum(self):\n",
    "        self.assertEqual( sum_of_elements([1, 2, 4]), 9 )\n",
    "\n",
    "    def test_larger(self):\n",
    "        self.assertEqual( larger(4,5), None )\n",
    "        # add test 2\n",
    "        # add test 3\n",
    "        \n",
    "# The call to unittest.main() requires some arguments in the notebook environment:\n",
    "#     argv = ['']:  The argv argument can be a list of options passed to the program.\n",
    "#                   If not specified or None, the values of sys.argv are used. The problem\n",
    "#                   is that in notebooks we don't have sys.argv, so we provide an empty\n",
    "#                   list here so that this works.\n",
    "#\n",
    "#     exit = False: This displays the result on standard output without calling \n",
    "#                   sys.exit(), thus supporting use from an interactive interpreter.\n",
    "#\n",
    "#     verbosity=2:  gives a little more output than the default verbosity=1.\n",
    "#\n",
    "unittest.main(argv=[''], verbosity=2, exit=False)"
   ]
  },
  {
   "cell_type": "markdown",
   "metadata": {},
   "source": [
    "## Deliverable 3: Implement calulation of an average with echo and unit test debug tools <font color='red'>(50 points)</font>\n",
    "\n",
    "Now it's your turn to play with debugging tools when writing your own function. We want you to implement a function that:\n",
    "\n",
    "* calculates the mean $m$ of a list with numerical values it is given as an argument, e.g., for an array $x$ of length $N$\n",
    "$$m = \\frac{1}{N}\\sum_i^N{x_i}$$\n",
    "note that the Python built-in function `len(x)` provides the length of an array x. \n",
    "* contains meaningful `print` or `print_debug` statements for debugging\n",
    "* is called a few times with some arguments to show that it runs\n",
    "* is tested with **at least 4 different scenarios** from within a unit test.\n",
    "\n",
    "Below are two code cells. In the first, add your code for the `avg` function with debug statements. The second contains a stub for the unit test for you to fill out.\n"
   ]
  },
  {
   "cell_type": "code",
   "execution_count": 7,
   "metadata": {},
   "outputs": [],
   "source": [
    "# set the Debug flag to a desired value\n",
    "DEBUG = False\n"
   ]
  },
  {
   "cell_type": "code",
   "execution_count": 9,
   "metadata": {},
   "outputs": [
    {
     "ename": "IndentationError",
     "evalue": "expected an indented block after class definition on line 7 (1242841658.py, line 14)",
     "output_type": "error",
     "traceback": [
      "\u001b[0;36m  Cell \u001b[0;32mIn[9], line 14\u001b[0;36m\u001b[0m\n\u001b[0;31m    unittest.main(argv=[''], defaultTest='TestYourFunction', verbosity=2, exit=False)\u001b[0m\n\u001b[0m    ^\u001b[0m\n\u001b[0;31mIndentationError\u001b[0m\u001b[0;31m:\u001b[0m expected an indented block after class definition on line 7\n"
     ]
    }
   ],
   "source": [
    "import unittest\n",
    "\n",
    "# set the Debug flag to a desired value\n",
    "DEBUG = False\n",
    "\n",
    "#Here is the unit test skeleton\n",
    "class TestYourFunction(unittest.TestCase):\n",
    "    #fill this out, feel free to copy and adapt part from\n",
    "    #the unit test we gave you above.\n",
    "\n",
    "#Note that we added 'defaultTest' here to ensure that just this test is run\n",
    "#and not also the ones from above. You can feel free to remove this if you\n",
    "#want a test of the full suite.\n",
    "unittest.main(argv=[''], defaultTest='TestYourFunction', verbosity=2, exit=False)"
   ]
  }
 ],
 "metadata": {
  "celltoolbar": "Tags",
  "kernelspec": {
   "display_name": "base",
   "language": "python",
   "name": "python3"
  },
  "language_info": {
   "codemirror_mode": {
    "name": "ipython",
    "version": 3
   },
   "file_extension": ".py",
   "mimetype": "text/x-python",
   "name": "python",
   "nbconvert_exporter": "python",
   "pygments_lexer": "ipython3",
   "version": "3.10.8"
  }
 },
 "nbformat": 4,
 "nbformat_minor": 4
}
