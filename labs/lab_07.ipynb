{
 "cells": [
  {
   "cell_type": "markdown",
   "metadata": {},
   "source": [
    "# **Lab 7 — Matplotlib**\n",
    "---\n",
    "\n",
    "## Introduction\n",
    "\n",
    "Data visualization is a crucial skill to have in your toolbox. Thankfully, there are Python solutions which make producing publication-quality graphs straightforward! In this lab you'll practice using Matplotlib, the *de facto* standard plotting library for Python, to create various types of graphs.\n",
    "\n",
    "Your deliverable for this lab will be this notebook, with \"deliverables\" completed as requested below, **as well as the data file you use for Deliverable 5**. The \"exercises\" are exploratory and not graded. Please rename the notebook from `lab_07.ipynb` to `<last_name>_lab_07.ipynb` prior to submission. Download the file using File $\\rightarrow$ Download. Submit it to Canvas, along with your data file (636 students), under the Lab 7 assignment.\n",
    "\n",
    "## Resources\n",
    "\n",
    "[Matplotlib website](https://matplotlib.org/)  \n",
    "[Gallery of Matplotlib plots](https://matplotlib.org/stable/gallery/index.html)\n",
    "\n",
    "## Exercise I: Simple plots\n",
    "\n",
    "You have already seen several Matplotlib-created plots in previous labs. To use Matplotlib, you'll almost always want to start by importing the `pyplot` module:\n",
    "\n",
    "```python\n",
    "import matplotlib.pyplot as plt\n",
    "```\n",
    "\n",
    "Then you can accomplish most plotting tasks using the format `plt.command_name_here()`. Here is a basic Matplotlib figure example:"
   ]
  },
  {
   "cell_type": "code",
   "execution_count": null,
   "metadata": {},
   "outputs": [],
   "source": [
    "import matplotlib.pyplot as plt\n",
    "\n",
    "plt.plot([1, 2, 3, 4])\n",
    "plt.show()"
   ]
  },
  {
   "cell_type": "markdown",
   "metadata": {},
   "source": [
    "In this example, we used the [`plot()`](https://matplotlib.org/api/_as_gen/matplotlib.pyplot.plot.html) command with a single list of values. If only one list is provided, Matplotlib assumes that it is a sequence of values ($y$-axis) to be plotted over a sequence that corresponds to the indices in that list ($x$-axis). We also use the [`show()`](https://matplotlib.org/api/_as_gen/matplotlib.pyplot.show.html) command to display the plot that we generated. (Note that you don't have to do that; you could, for instance, use [`savefig('test.png')`](https://matplotlib.org/api/_as_gen/matplotlib.pyplot.savefig.html#matplotlib.pyplot.savefig) to save it to the file `test.png` in the current folder.) Now let's try a slightly more advanced example using NumPy."
   ]
  },
  {
   "cell_type": "code",
   "execution_count": null,
   "metadata": {},
   "outputs": [],
   "source": [
    "import matplotlib.pyplot as plt\n",
    "import numpy as np\n",
    "\n",
    "t = np.arange(0, 2 * np.pi, 0.01)\n",
    "s = 1 + np.sin(t)\n",
    "plt.plot(t, s)\n",
    "\n",
    "plt.xlabel('Radians')\n",
    "plt.ylabel('Distance from the horizontal axis')\n",
    "plt.title('My interesting sine wave')\n",
    "\n",
    "plt.show()"
   ]
  },
  {
   "cell_type": "markdown",
   "metadata": {},
   "source": [
    "In this example, we use NumPy to generate $x$ and $y$ values. We also label the plot axes and provide a title using the self-explanatory `xlabel()`, `ylabel()`, and `title()` commands. You can view all of the commands [here](https://matplotlib.org/api/_as_gen/matplotlib.pyplot.html#module-matplotlib.pyplot).\n",
    "\n",
    "## Deliverable 1 <font color='red'>(25 points)</font>\n",
    "\n",
    "Make a plot of $u(t) = \\cos(2t) + 2$ on the interval $[0, \\pi]$. Give your plot $x$- and $y$-axis labels and a title (feel free to make these as pointless as you want). Include your plot in a **new code cell below** (make sure your plot is displayed)."
   ]
  },
  {
   "cell_type": "markdown",
   "metadata": {},
   "source": [
    "## Exercise II: Variations in `pyplot`\n",
    "\n",
    "### Line attributes\n",
    "\n",
    "Each line plot can be changed with different attributes. The line color, width, and style may be changed, for example. As an example, we can modify our previous sine function plot:"
   ]
  },
  {
   "cell_type": "code",
   "execution_count": null,
   "metadata": {},
   "outputs": [],
   "source": [
    "t = np.arange(0, 2 * np.pi, 0.01)\n",
    "s = 1 + np.sin(t)\n",
    "plt.plot(t, s, color='red', linewidth=3.0, linestyle='dotted')\n",
    "\n",
    "plt.show()"
   ]
  },
  {
   "cell_type": "markdown",
   "metadata": {},
   "source": [
    "Try experimenting with changing the color, line width, and line style of the above plot. You can also skim [this tutorial](https://matplotlib.org/stable/tutorials/introductory/pyplot.html) to learn more about how to change plot features.\n",
    "\n",
    "### Multiple lines\n",
    "\n",
    "You can plot multiple lines on the same plot by calling `plot()` more than once:"
   ]
  },
  {
   "cell_type": "code",
   "execution_count": null,
   "metadata": {
    "scrolled": true
   },
   "outputs": [],
   "source": [
    "t = np.arange(0, 2 * np.pi, 0.01)\n",
    "s = 1 + np.sin(t)\n",
    "\n",
    "plt.plot(t, s, color='red', linewidth=3.0, linestyle='dotted')\n",
    "plt.plot(t, (2 * s) - 1, color='green', linewidth=2.0, linestyle='dashed')\n",
    "\n",
    "plt.show()"
   ]
  },
  {
   "cell_type": "markdown",
   "metadata": {},
   "source": [
    "### Legends\n",
    "\n",
    "But now, you probably want a legend to understand what these two lines mean! The easiest way to create a legend is to give each of your `plot()` commands the optional argument `label='my_label_here'`, and then call [`legend()`](https://matplotlib.org/api/_as_gen/matplotlib.pyplot.legend.html) prior to the `show()` command — like so:"
   ]
  },
  {
   "cell_type": "code",
   "execution_count": null,
   "metadata": {},
   "outputs": [],
   "source": [
    "t = np.arange(0, 2 * np.pi, 0.01)\n",
    "s = 1 + np.sin(t)\n",
    "\n",
    "plt.plot(t, s, color='red', linewidth=3.0, linestyle='dotted', label='My red line')\n",
    "plt.plot(t, (2 * s) - 1, color='green', linewidth=2.0, linestyle='dashed', label='My green line')\n",
    "\n",
    "plt.legend()\n",
    "\n",
    "plt.show()"
   ]
  },
  {
   "cell_type": "markdown",
   "metadata": {},
   "source": [
    "## Exercise III: More involved plotting\n",
    "\n",
    "Now that you've experimented around with some basic plotting, let's read in a more interesting dataset to plot. Run the following code cell to load in some GPS data from a station in the Aleutians (the large jump is the [2020-07-22 M7.8 Simeonof Earthquake](http://www.grapenthin.org/notes/2020_07_24_Simeonof_eq/))."
   ]
  },
  {
   "cell_type": "code",
   "execution_count": null,
   "metadata": {},
   "outputs": [],
   "source": [
    "import pandas as pd\n",
    "from datetime import datetime\n",
    "    \n",
    "df = pd.read_csv(\"https://data.unavco.org/archive/gnss/products/position/AC12/AC12.cwu.nam14.csv\", header=11) #read in the file\n",
    "\n",
    "dates = [datetime.strptime(d, '%Y-%m-%d') for d in df['Date']] #convert date strings into datetime objects\n",
    "t = [d.days for d in np.array(dates) - dates[0]]#create a new list of days since the start for each sample\n",
    "\n",
    "x = df[' East (mm)'].values #east displacement, .values returns the values as a numpy array instead of pandas Series\n",
    "y = df[' North (mm)'].values\n",
    "z = df[' Vertical (mm)'].values\n",
    "\n",
    "x_std = df[' East Std. Deviation (mm)'].values"
   ]
  },
  {
   "cell_type": "markdown",
   "metadata": {},
   "source": [
    "The above code cell reads in a CSV file (using pandas, which downloads the file from a remote server for you!) and defines the following six variables:\n",
    "\n",
    "* `dates` — [datetime](https://docs.python.org/3/library/datetime.html) object representing the date of each data point\n",
    "* `t` — Days since 6 May 2008 (these are daily position measurements)\n",
    "* `x`, `y`, `z` — East, north, and vertical displacements in mm (relative to position on 6 May 2008)\n",
    "* `x_std` — The standard deviation of each measurement in `x` in mm\n",
    "\n",
    "We can get a very basic view of these data using the following code:"
   ]
  },
  {
   "cell_type": "code",
   "execution_count": null,
   "metadata": {},
   "outputs": [],
   "source": [
    "plt.plot(dates, x)\n",
    "plt.plot(dates, y)\n",
    "plt.plot(dates, z)\n",
    "plt.show()"
   ]
  },
  {
   "cell_type": "markdown",
   "metadata": {},
   "source": [
    "## Deliverable 2 <font color='red'>(25 points)</font>\n",
    "\n",
    "In a **new code cell below**, re-create the above plot but add a legend with labels for each line as well as appropriate $x$- and $y$-axis labels."
   ]
  },
  {
   "cell_type": "markdown",
   "metadata": {},
   "source": [
    "### Subplots\n",
    "\n",
    "Sometimes you want to plot several quantities, each on their own axis. You can accomplish this with the [`subplot()`](https://matplotlib.org/api/_as_gen/matplotlib.pyplot.subplot.html#matplotlib.pyplot.subplot) command. This command adds a new \"subplot\" to your figure. The syntax is `subplot(num_rows, num_cols, index)`, where `index` starts at 1 (yes, 1 rather than 0, strangely). For example, `subplot(2, 2, 1)` plots into the first axis of a 2 $\\times$ 2 grid of subplots. Here's an example that shows the GPS east displacement and the associated standard deviation:"
   ]
  },
  {
   "cell_type": "code",
   "execution_count": null,
   "metadata": {},
   "outputs": [],
   "source": [
    "plt.subplot(2, 1, 1)  # 2 x 1 subplot grid, 1st plot\n",
    "plt.plot(dates, x)\n",
    "plt.subplot(2, 1, 2)  # 2 x 1 subplot grid, 2nd plot\n",
    "plt.plot(dates, x_std)\n",
    "\n",
    "plt.show()"
   ]
  },
  {
   "cell_type": "code",
   "execution_count": null,
   "metadata": {},
   "outputs": [],
   "source": [
    "#an alternative syntax is:\n",
    "fig, ax = plt.subplots(nrows=2)\n",
    "ax[0].plot(dates,x)#here the 'ax' object has all the same functions as 'plt', you just have to specify which axes to use\n",
    "ax[1].plot(dates, x_std)\n",
    "plt.show()"
   ]
  },
  {
   "cell_type": "markdown",
   "metadata": {},
   "source": [
    "## Deliverable 3 <font color='red'>(25 points)</font>\n",
    "\n",
    "Re-create the plot shown below using what you've learned thus far.\n",
    "\n",
    "<img src=\"https://raw.githubusercontent.com/uafgeoteach/GEOS636_PAG/master/lab_07_subplots.png\" width=550>\n",
    "\n",
    "Include your code in a **new code cell below**. You can use the command [`plt.tight_layout()`](https://matplotlib.org/api/_as_gen/matplotlib.pyplot.tight_layout.html#matplotlib.pyplot.tight_layout) before `plt.show()` to make more room for axis labels (makes the plot look nicer)."
   ]
  },
  {
   "cell_type": "markdown",
   "metadata": {},
   "source": [
    "### Scatter plots\n",
    "\n",
    "So far we've focused on line plots, but scatter plots are another common type of visual. They can be created using the [`scatter()`](https://matplotlib.org/api/_as_gen/matplotlib.pyplot.scatter.html#matplotlib.pyplot.scatter) command, which requires two arguments: The $x$ and $y$ data values. Let's plot east displacement versus north displacement:"
   ]
  },
  {
   "cell_type": "code",
   "execution_count": null,
   "metadata": {},
   "outputs": [],
   "source": [
    "plt.scatter(x, y)\n",
    "plt.xlabel('East displacement (mm)')\n",
    "plt.ylabel('North displacement (mm)')\n",
    "plt.axis('equal')\n",
    "plt.show()"
   ]
  },
  {
   "cell_type": "markdown",
   "metadata": {},
   "source": [
    "Here we use [`axis('equal')`](https://matplotlib.org/api/_as_gen/matplotlib.pyplot.axis.html#matplotlib.pyplot.axis) to ensure that 1 mm has the same length on the $y$-axis as it does on the $x$-axis.\n",
    "\n",
    "## Deliverable 4 <font color='red'>(25 points)</font>\n",
    "\n",
    "The above plot isn't very interesting since it doesn't show us how the position changes over time. It'd be good to color these points by time. In a **new code cell** below, replicate the above plot but additionally color the points by time `t` as well as add a colorbar to indicate what the colored points represent.\n",
    "\n",
    "> **Note:** You'll need to read the documentation for the `scatter()` command to figure out how to color the points. For the colorbar, remember that you can view all of the functions provided by `pyplot` [here](https://matplotlib.org/api/_as_gen/matplotlib.pyplot.html#module-matplotlib.pyplot).\n",
    "\n",
    "If you get stuck, turn to the documentation first, and then Google! Reading documentation is a crucial skill for programmers."
   ]
  },
  {
   "cell_type": "markdown",
   "metadata": {},
   "source": [
    "## Deliverable 5 <font color='red'>Only Required for 636 Students (20 points)</font>\n",
    "\n",
    "Find some data file (you can use the file you used for last week's lab), upload it to Opensarlab, load it into this notebook (again, you may use code from last week!) and generate a plot. Label all the axes, give it a title, and display it. **Include your code in a code cell below, and submit your data file with your notebook.**\n"
   ]
  },
  {
   "cell_type": "markdown",
   "metadata": {},
   "source": [
    "This lab only scratches the surface of what Matplotlib can do. See [this gallery](https://matplotlib.org/stable/gallery/index.html) for many more examples!"
   ]
  }
 ],
 "metadata": {
  "kernelspec": {
   "display_name": "Python 3 (ipykernel)",
   "language": "python",
   "name": "python3"
  },
  "language_info": {
   "codemirror_mode": {
    "name": "ipython",
    "version": 3
   },
   "file_extension": ".py",
   "mimetype": "text/x-python",
   "name": "python",
   "nbconvert_exporter": "python",
   "pygments_lexer": "ipython3",
   "version": "3.9.13"
  }
 },
 "nbformat": 4,
 "nbformat_minor": 4
}
