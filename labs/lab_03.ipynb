{
 "cells": [
  {
   "cell_type": "markdown",
   "metadata": {},
   "source": [
    "# **Lab 3 — Python lists and flow control**\n",
    "---\n",
    "\n",
    "## Introduction\n",
    "\n",
    "This lab will introduce lists, which are a great way of organizing data. We will also look at flow control and iteration — two essential tools within Python (and other programming languages). Finally, we will calculate statistics on some time series data.\n",
    "\n",
    "Your deliverable for this lab will be this notebook, with **\"deliverables\" completed as requested below**. The \"exercises\" are exploratory and not graded. Please rename the notebook from `lab_03.ipynb` to `<last_name>_lab_03.ipynb` prior to submission. Download the file using **File $\\rightarrow$ Download**. Submit it to Canvas under the Lab 3 assignment **no later than 5pm Thursday, September 21st**.\n",
    "\n",
    "## Resources\n",
    "\n",
    "[Lists](https://www.w3schools.com/python/python_lists.asp)  \n",
    "\n",
    "## Exercise I: Lists\n",
    "\n",
    "In the last lab, we talked about integers, floats and strings. Today, we're going to introduce a data structure — the list. Lists can store multiple values (potentially of different data types) at once. Try these lines in the code cell below:\n",
    "\n",
    "```python\n",
    "mylist = [1, 2, 3]\n",
    "mylist\n",
    "mylist[0]\n",
    "mylist[0] + 100\n",
    "mylist[0] + mylist[1] + mylist[2]\n",
    "mylist[0] = mylist[1] + mylist[2]\n",
    "mylist  # Remember, entering a variable and nothing else prints the variable if the code cell is run\n",
    "```\n",
    "\n",
    "You can also make lists containing different data types and make lists inside of lists (these are called nested lists). Try these lines:\n",
    "\n",
    "```python\n",
    "mylist = [77, 'geophysics', 88.5]\n",
    "type(mylist)\n",
    "type(mylist[0])\n",
    "type(mylist[1])\n",
    "type(mylist[2])\n",
    "mylist[0] + mylist[2]\n",
    "nestedlist = [5, 6, [7, 8, 9, 10], 11, [12, 13]]\n",
    "nestedlist[0]\n",
    "nestedlist[2]\n",
    "nestedlist[2][1]\n",
    "nestedlist[4][1]\n",
    "mylist + mylist\n",
    "mylist - mylist\n",
    "```\n",
    "\n",
    "The last line of code causes an error because operations besides `+` are not supported."
   ]
  },
  {
   "cell_type": "code",
   "execution_count": null,
   "metadata": {
    "tags": []
   },
   "outputs": [],
   "source": [
    "#Run this cell first! This cell allows the output of all lines to be read, not just the last one.\n",
    "from IPython.core.interactiveshell import InteractiveShell\n",
    "InteractiveShell.ast_node_interactivity = \"all\""
   ]
  },
  {
   "cell_type": "code",
   "execution_count": null,
   "metadata": {},
   "outputs": [],
   "source": [
    "# Try the above lines out here!\n"
   ]
  },
  {
   "cell_type": "markdown",
   "metadata": {},
   "source": [
    "## Deliverable 1 <font color='red'>(25 points)</font>\n",
    "\n",
    "To demonstrate that you understand these list operations, you'll write some code which accesses items within a nested list. The line of code you will use to create your list is displayed below. (Note: it would be easier to copy and paste this code than type it out.) This is a list with entries (which are also lists) containing GPS station name strings and (lon, lat) coordinates. Note that all the brackets here are important, but the formatting is such that it's easier to see which opening and closing brackets go together, so hopefully you can see the structure - in this case none of the formatting affects Python's interpreation of the code, but making it easier to read is important for the human looking at the code.\n",
    "\n",
    "```python\n",
    "datalist =    [\n",
    "               [ [-174.204754770, 52.209504660], 'AB01' ], \n",
    "               [ [-152.249531000, 58.925958430], 'AB02' ], \n",
    "               [ [-166.541836000, 53.875635000], 'AB03' ], \n",
    "               [ [-110.597476000, 43.674090000], 'AB04' ], \n",
    "               [ [-163.998466000, 54.811342100], 'AB05' ]\n",
    "              ]\n",
    "```\n",
    "\n",
    "Now, using list indices:\n",
    "\n",
    "1. Print the coordinates of station AB01\n",
    "2. Print the third station station name\n",
    "3. Print the latitude of AB02\n",
    "\n",
    "Write your three print statements in a **new code cell below**. Use the `print()` command here!"
   ]
  },
  {
   "cell_type": "markdown",
   "metadata": {},
   "source": [
    "## Deliverable 2 <font color='red'>(25 points)</font>\n",
    "\n",
    "Python lists have many useful built-in methods for adding/removing items, sorting, etc. A summary is available [here](https://www.w3schools.com/python/python_ref_list.asp). Consider the following list:\n",
    "\n",
    "```python\n",
    "mylist = ['bear', 47, 42.42, 'Honda']\n",
    "```\n",
    "\n",
    "Pick three methods from the link above and demonstrate them on `mylist`. **Use a new code cell below for each of your three methods.** For example:\n",
    "\n",
    "```python\n",
    "mylist.count('bear')\n",
    "1\n",
    "mylist.count('lynx')\n",
    "0\n",
    "```"
   ]
  },
  {
   "cell_type": "markdown",
   "metadata": {},
   "source": [
    "## Exercise II: If...(elif)...else statements\n",
    "\n",
    "We recently introduced comparison operators. For example, if we defined `x = 5` and then typed `x > 3`, then the program would return `True`. These comparisons can be used in conditional statements to control the flow of the program. In most programming languages, these take the form of `if — else` statements, which are the same thing as the diamond shaped conditionals in the flow charts. Try the code below several times with both positive and negative values for `var`. Additionally, try using the code without indentation to see what happens. Blank space often matters in Python."
   ]
  },
  {
   "cell_type": "code",
   "execution_count": null,
   "metadata": {
    "tags": []
   },
   "outputs": [],
   "source": [
    "var = 5\n",
    "if var > 0:\n",
    "    print('var is positive')\n",
    "elif var == 0:\n",
    "    print('var is equal to 0')\n",
    "else:\n",
    "    print('var is negative')"
   ]
  },
  {
   "cell_type": "markdown",
   "metadata": {},
   "source": [
    "## Exercise III: Iteration\n",
    "\n",
    "One of the most useful tools in programming is the ability to automate repetitive tasks. If, for example, we needed to perform hundreds of similar tasks, we can use a \"loop\" to execute these tasks with a few lines of code instead of typing out everything individually. Python provides two kinds of loops - `for` and `while` loops:\n",
    "\n",
    "`for` loops are **counter-based** and repeat the indented code given in the body until it has been repeated a specified number of times or until the loop is \"broken.\" \n",
    "\n",
    "`while` loops are **condition-based** and iterate until a condition has been met or until the loop is \"broken.\"\n",
    "\n",
    "Try this example. We will be using a command called `range()` to generate a list of numbers to iterate over. Here is the [documentation](https://docs.python.org/3/library/stdtypes.html#range) if you are interested in learning more.\n",
    "\n",
    "```python\n",
    "for num in range(20):\n",
    "    print(num ** 2)\n",
    "```\n",
    "\n",
    "Let's try a `for` loop where we iterate through a list instead of a range of numbers:\n",
    "\n",
    "```python\n",
    "names = ['Joasia', 'Kai', 'Carmen', 'Elena', 'Iris']\n",
    "for person in names:\n",
    "    print(\"Good morning, \" + person)\n",
    "```\n",
    "\n",
    "`while` loops operate differently. They operate until a condition has been met or a `break` statement has been used. Try this code.\n",
    "\n",
    "```python\n",
    "loopnum = 0\n",
    "while loopnum < 15:\n",
    "    print(loopnum)\n",
    "    loopnum += 1\n",
    "```"
   ]
  },
  {
   "cell_type": "code",
   "execution_count": null,
   "metadata": {},
   "outputs": [],
   "source": [
    "# Try out the above examples here!"
   ]
  },
  {
   "cell_type": "markdown",
   "metadata": {},
   "source": [
    "## Deliverable 3 <font color='red'>(25 points)</font>\n",
    "\n",
    "In the code cell below we have given you a list of station names with coordinates, similar to what you worked with above. Your job is to use flow control to determine which station(s) are contained within the bounding box specified by `LATMIN`, `LATMAX`, `LONMIN`, `LONMAX`. Your code should check for each station in the list whether it is located within the bounding box. If the station is within the bounding box, your code should print the station name. Note that iteration can also help here! To answer this question **add code to the code cell below**. (There are several ways to solve this problem. As long as you get the program to work properly, you will not have any points taken off.)"
   ]
  },
  {
   "cell_type": "code",
   "execution_count": null,
   "metadata": {
    "tags": []
   },
   "outputs": [],
   "source": [
    "datalist = [\n",
    "             [ [-174.204754770, 52.209504660], 'AB01' ],\n",
    "             [ [-152.249531000, 58.925958430], 'AB02' ],\n",
    "             [ [-166.541836000, 53.875635000], 'AB03' ],\n",
    "           ]\n",
    "\n",
    "LATMIN = 52\n",
    "LATMAX = 59\n",
    "LONMIN = -160\n",
    "LONMAX = -150\n",
    "\n",
    "# Your code goes here."
   ]
  },
  {
   "cell_type": "markdown",
   "metadata": {},
   "source": [
    "## Exercise IV\n",
    "\n",
    "In this final exercise, you'll work with some actual time series data and compute some statistics. The data come from a tilt sensor located on the flank of Shishaldin, a volcano in the Aleutian Arc. See the map below for context (the tilt sensor, AV37, is shown as a circle with a red outline):\n",
    "\n",
    "<img src=\"https://raw.githubusercontent.com/uafgeoteach/GEOS636_PAG/master/shishaldin_map.png\">\n",
    "\n",
    "Tilt sensors measure tiny changes in the tilt of the ground, which can signal deformation. In this case, the kink in the time series shown adjacent to the above map indicates a lava lake draining / magma withdrawal event. You can read more about tilt sensors [here](https://www.usgs.gov/natural-hazards/volcano-hazards/tiltmeters-and-strainmeters-measure-subtle-changes-ground-slope-and). Run the below code cell to download the data text file from GitHub:"
   ]
  },
  {
   "cell_type": "code",
   "execution_count": null,
   "metadata": {
    "tags": []
   },
   "outputs": [],
   "source": [
    "!curl -O https://raw.githubusercontent.com/uafgeoteach/GEOS636_PAG/master/AV37_lava_lake.txt"
   ]
  },
  {
   "cell_type": "markdown",
   "metadata": {},
   "source": [
    "To plot the data, execute the following cell:"
   ]
  },
  {
   "cell_type": "code",
   "execution_count": null,
   "metadata": {
    "tags": []
   },
   "outputs": [],
   "source": [
    "import matplotlib.pyplot as plt\n",
    "import datetime\n",
    "import numpy as np\n",
    "\n",
    "# Read text file\n",
    "data = np.genfromtxt(\"AV37_lava_lake.txt\", dtype=None, names=['date', 'x', 'y'], encoding='utf-8')\n",
    "\n",
    "# Define three variables\n",
    "date = [datetime.datetime.strptime(d, \"%Y-%m-%dT%H:%M:%S.%f\") for d in data['date']]\n",
    "x_tilt = data['x']\n",
    "y_tilt = data['y']\n",
    "\n",
    "# Construct plot\n",
    "fig, ax = plt.subplots()\n",
    "ax.plot(date, x_tilt, 'r.', label='x')\n",
    "ax.plot(date, y_tilt, 'b.', label='y')\n",
    "ax.axvline(date[4980], color='black')\n",
    "ax.axvline(date[5640], color='black')\n",
    "ax.set_ylabel('Tilt (microradians)')\n",
    "\n",
    "ax.legend()\n",
    "\n",
    "# Show plot\n",
    "plt.show()"
   ]
  },
  {
   "cell_type": "markdown",
   "metadata": {},
   "source": [
    "## Deliverable 4 <font color='red'>(25 points)</font>\n",
    "\n",
    "Your job is to fix the code cell below in order to determine the change in the $y$-axis (North–South, blue markers) tilt data during the event. There is one syntax error and one logic error. \n",
    "\n",
    "**Some notes:**\n",
    "\n",
    "* Indices 0–4980 correspond to \"pre-event\" data, while indices 5640–end (how do you specify \"end\" in Python list indexing?) correspond to \"post-event\" data. These boundaries are shown as vertical black lines in the Python plot you generated above. You can use these to subset the `y_tilt` variable appropriately — you won't need to use the `date` variable for this.\n",
    "\n",
    "* Recall that the mean $\\mu$ of a set of data $x_i$ is given by\n",
    "$$\\mu = \\frac{\\sum_{i=0}^n x_i}{n}$$\n",
    "where $n$ is the number of data values\n",
    "* Also recall that the standard deviation $\\sigma$ of a set of data $x_i$ is given by\n",
    "$$\\sigma = \\sqrt{\\frac{\\sum_{i=0}^n (x_i - \\mu)^2}{n}}$$"
   ]
  },
  {
   "cell_type": "code",
   "execution_count": null,
   "metadata": {
    "tags": []
   },
   "outputs": [],
   "source": [
    "def mean(x):\n",
    "    value_sum = 0\n",
    "    for value in x:\n",
    "        value_sum += value\n",
    "    return value_sum\n",
    "\n",
    "def std(x):\n",
    "    x_mean = mean(x)\n",
    "    diff_sum = 0\n",
    "    for value in x:\n",
    "        diff_sum += (value - x_mean) ** 2\n",
    "    return (diff_sum / len(x) ** (1 / 2)\n",
    "\n",
    "y_tilt_before = y_tilt[:4980]\n",
    "y_tilt_after = y_tilt[5640:]\n",
    "\n",
    "tilt_diff = mean(y_tilt_after) - mean(y_tilt_before)\n",
    "delta_tilt_diff = (std(y_tilt_after) ** 2 + std(y_tilt_before) ** 2) ** (1/2)\n",
    "\n",
    "print(f'y-axis tilt change is ({tilt_diff:.1f} +/- {delta_tilt_diff:.2f}) microradians')"
   ]
  },
  {
   "cell_type": "code",
   "execution_count": null,
   "metadata": {},
   "outputs": [],
   "source": []
  }
 ],
 "metadata": {
  "celltoolbar": "Tags",
  "kernelspec": {
   "display_name": "base",
   "language": "python",
   "name": "python3"
  },
  "language_info": {
   "codemirror_mode": {
    "name": "ipython",
    "version": 3
   },
   "file_extension": ".py",
   "mimetype": "text/x-python",
   "name": "python",
   "nbconvert_exporter": "python",
   "pygments_lexer": "ipython3",
   "version": "3.10.8"
  }
 },
 "nbformat": 4,
 "nbformat_minor": 4
}
