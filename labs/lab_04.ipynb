{
 "cells": [
  {
   "cell_type": "markdown",
   "metadata": {},
   "source": [
    "# **Lab 4 — Dictionaries and functions**\n",
    "---\n",
    "\n",
    "## Introduction\n",
    "\n",
    "This week we're going to learn about dictionaries and functions in Python. However, before we delve into this topic, we're going to do a refresher exercise on lists and iteration.\n",
    "\n",
    "Your deliverable for this lab will be this notebook, with **\"deliverables\" completed as requested below**. The \"exercises\" are exploratory and not graded. Please rename the notebook from `lab_04.ipynb` to `<last_name>_lab_04.ipynb` prior to submission. Download the file using **File $\\rightarrow$ Download**. Submit it to Canvas under the Lab 4 assignment.\n",
    "\n",
    "Please note that Deliverable 4 is only required for students enrolled in 636. Students in 436 are welcome to complete the deliverable and will be given feedback on their work if they do, but it will not factor into their grade.\n",
    "\n",
    "## Resources\n",
    "\n",
    "[Dictionaries](https://www.w3schools.com/python/python_dictionaries.asp)  \n",
    "[Functions](https://www.w3schools.com/python/python_functions.asp)\n",
    "\n",
    "## Exercise I: Review\n",
    "\n",
    "We're going to combine everything that we learned and add something extra. We will be using the [`open()`](https://docs.python.org/3/library/functions.html#open) function to open a data file consisting of latitudes, longitudes and station names. `open()` returns a \"file object\" which provides several operations that can operate on this datatype. We will use the `read()` function, which returns the entire file contents in one single string (if called without a parameter). String objects provide another [set of functions](https://docs.python.org/3/library/stdtypes.html#string-methods). Here, we'll use the `split()` function to split the single string that contains all of the file contents into a list of strings using any whitespace (spaces, tabs, newlines) as a separator.\n",
    "\n",
    "First, download the text file `PBO_coords.txt` using by running the code cell below: \n",
    "(Note, 'curl' is a command line tool not python! We will learn more about this later)"
   ]
  },
  {
   "cell_type": "code",
   "execution_count": null,
   "metadata": {},
   "outputs": [],
   "source": [
    "#We're again making sure that all the output is displayed \n",
    "from IPython.core.interactiveshell import InteractiveShell\n",
    "InteractiveShell.ast_node_interactivity = \"all\"\n",
    "\n",
    "#this downloads the data\n",
    "!curl -O http://www.grapenthin.org/teaching/geop501/download/PBO_coords.txt"
   ]
  },
  {
   "cell_type": "markdown",
   "metadata": {},
   "source": [
    "Then open the file using `open()`:"
   ]
  },
  {
   "cell_type": "code",
   "execution_count": null,
   "metadata": {
    "scrolled": true
   },
   "outputs": [],
   "source": [
    "with open('PBO_coords.txt') as f:\n",
    "    data = f.read().split()\n",
    "    # At this point, we have the whole contents of \"PBO_coords.txt\" in the variable \"data\" and\n",
    "    # we can close the file, by leaving the \"with\" statement\n",
    "\n",
    "data[:15]  # Only print the first entries since this is a large file!"
   ]
  },
  {
   "cell_type": "markdown",
   "metadata": {},
   "source": [
    "We've wrapped this in the (maybe) odd-looking `with` statement. This ensures that the file will be closed at the end of `with`. Why is this important? Apart from good practice, write access to a file is granted only once on the system level. So if you (or someone else) wanted to add something to a file, but you didn't close the file when you were done and the program kept running, nobody else can write to the file."
   ]
  },
  {
   "cell_type": "markdown",
   "metadata": {},
   "source": [
    "## Deliverable 1 <font color='red'>(30 points)</font>\n",
    "\n",
    "For this deliverable, you are going to organize the data and change it from a normal list into a nested list. To do so, you will have to iterate over all items in `data`, organize longitude, latitude, and station name into a sub-list, and add this sublist to `newlist` such that:\n",
    "\n",
    "```python\n",
    "print(newlist[0])\n",
    "```\n",
    "\n",
    "Should output:\n",
    "\n",
    "```\n",
    "['-174.204754770', '52.209504660', 'AB01']\n",
    "```\n",
    "\n",
    "Instead of:\n",
    "\n",
    "```\n",
    "-174.204754770\n",
    "```\n",
    "\n",
    "Why is this useful? You can access all the information for one station at once, rather than always having to keep in mind how many field belong to a station, and what the offset is that you need calculate to get to those data.\n",
    "\n",
    "Add a **new code cell** below with your code that generates `newlist`."
   ]
  },
  {
   "cell_type": "markdown",
   "metadata": {},
   "source": [
    "## Exercise II: Dictionaries\n",
    "\n",
    "Now we're going to introduce another very useful datatype: the [dictionary](https://docs.python.org/3/tutorial/datastructures.html#dictionaries). Dictionaries are similar to lists, but there are a few differences. First, lists are ordered sequences, while dictionaries are unordered sequences. Second, lists are indexed by numbers and dictionaries are indexed with keys. Dictionary keys can be any string or number or more complex datatypes such as datetime objects. Try this code (remember, **copy/pasting each line works best!**) to see how it works:\n",
    "\n",
    "```python\n",
    "x = {'a': 1, 'b': 100, 3: 4}\n",
    "x['a']\n",
    "x[3]\n",
    "x[1]  # This line won't work, there's no key '1'\n",
    "y = {'numbers': [0, 1, 2, 3, 4, 5, 6, 7, 8], 'letters': ['a', 'b', 'c', 'd']}\n",
    "y['numbers']\n",
    "y['letters']\n",
    "y['symbols'] = ['!', '@', '#']\n",
    "y\n",
    "```\n",
    "\n",
    "Make sure that you understand how this code works and why `x[1]` doesn't work before you move on."
   ]
  },
  {
   "cell_type": "code",
   "execution_count": null,
   "metadata": {},
   "outputs": [],
   "source": [
    "# Try out the above here!\n"
   ]
  },
  {
   "cell_type": "markdown",
   "metadata": {},
   "source": [
    "## Deliverable 2 <font color='red'>(35 points)</font>\n",
    "\n",
    "We can use dictionaries to better organize our coordinate data from the first deliverable. Instead of searching for or having to remember indices of station names to access their coordinates, you can organize your data into a dictionary so that:\n",
    "\n",
    "```python\n",
    "station_dict['AB01']\n",
    "```\n",
    "\n",
    "Will return:\n",
    "\n",
    "```\n",
    "['-174.204754770', '52.209504660']\n",
    "```\n",
    "\n",
    "This means you can use the station name directly as a key to look up information in your data structure - a much more intuitive way to look up data, don't you think? \n",
    "\n",
    "For your second deliverable, turn all of the data from `PBO_coords.txt` into a dictionary that works like the `station_dict` in the example above. You can start with the list `data` from Exercise I if you'd like.\n",
    "\n",
    "Add a **new code cell** below with your code that generates `station_dict`."
   ]
  },
  {
   "cell_type": "markdown",
   "metadata": {},
   "source": [
    "## Exercise 3: Functions\n",
    "\n",
    "A function is a block of code that can be reused to perform a specific task. This may sound similar to iteration, but functions differ in that they may be called at any time during the program, with different parameters, and instead of running multiple times like a loop, they only run once for every time that you call them.\n",
    "\n",
    "There are built-in functions (some of which we have already used) and user-defined functions. Here are some of the built-in functions that we have already used:\n",
    "\n",
    "```python\n",
    "int()\n",
    "float()\n",
    "str()\n",
    "type()\n",
    "range()\n",
    "```\n",
    "\n",
    "Built-in functions, like user-defined functions, take in an input and produce an output. The difference is that we do not have to separately define these functions, since they were already written by the creators of Python to solve simple problems.\n",
    "\n",
    "As you develop larger programs, it is useful to divide a program into user-defined functions. There are several reasons why you should do this:\n",
    "\n",
    "* Sectioning your program into functions allows you to name groups of commands, which makes your program easier to read, understand, and debug.\n",
    "* Functions can make a program smaller by eliminating repetitive code. If you make future changes, you only have to make them in one spot.\n",
    "* Well-designed functions are often useful outside of the program they're written for. Once you write and debug one, you can reuse it in future programs.\n",
    "\n",
    "Let's take a look at an example user-defined function:"
   ]
  },
  {
   "cell_type": "code",
   "execution_count": null,
   "metadata": {},
   "outputs": [],
   "source": [
    "def larger(x, y):\n",
    "    if x > y:\n",
    "        return x\n",
    "    elif y > x:\n",
    "        return y\n",
    "    else:\n",
    "        return None\n",
    "\n",
    "larger(5, 34)"
   ]
  },
  {
   "cell_type": "markdown",
   "metadata": {},
   "source": [
    "Feel free to try out different input values to `larger` in the code cell above! The `return` command is defining the output of the program. This program looks for the larger number and returns it as the output. Now, try using `larger(5)` in the cell above. It will give you an error because the function is only defined to take two arguments. It is important to get used to reading and understanding such error messages. Python is actually quite helpful here and tells us that `y` is missing."
   ]
  },
  {
   "cell_type": "markdown",
   "metadata": {},
   "source": [
    "## Deliverable 3 <font color='red'>(35 Points)</font>\n",
    "\n",
    "Turn the code from Deliverable 2 into a function (if you solved Deliverable using the data construct from Deliverable 1, you need to use both solutions here). The function should be defined as:\n",
    "\n",
    "```python\n",
    "def file_to_dict(filename):\n",
    "```\n",
    "\n",
    "The input for the function should be the `filename` and the output should be the dictionary of the station names and coordinates. You'll define this such that when run for a file named `BARD_coords2.txt`\n",
    "\n",
    "```python\n",
    "station_dict = file_to_dict('BARD_coords2.txt')\n",
    "print(station_dict['DIAB'])\n",
    "```\n",
    "\n",
    "prints:\n",
    "\n",
    "```\n",
    "['-121.9156', '37.8786']\n",
    "```\n",
    "\n",
    "First, run the below code cell to download `BARD_coords2.txt`."
   ]
  },
  {
   "cell_type": "code",
   "execution_count": null,
   "metadata": {},
   "outputs": [],
   "source": [
    "!curl -O grapenthin.org/teaching/geop501/download/BARD_coords2.txt"
   ]
  },
  {
   "cell_type": "markdown",
   "metadata": {},
   "source": [
    "Then, **define your function in the cell provided below**. Note that you won't have to write much new code here — you can use the code we've provided above to read the `filename` using `open()`, and then you may adopt the code you wrote for Deliverable 2, or Deliverable 1 and 2."
   ]
  },
  {
   "cell_type": "code",
   "execution_count": null,
   "metadata": {},
   "outputs": [],
   "source": [
    "def file_to_dict(filename):\n",
    "    pass  # Replace this line with your lines of code!"
   ]
  },
  {
   "cell_type": "markdown",
   "metadata": {},
   "source": [
    "Test your function by running the following. **Note that if you make changes to the function above, you need to re-run the code cell containing the function code for the function to be re-defined before you run the below again!**"
   ]
  },
  {
   "cell_type": "code",
   "execution_count": null,
   "metadata": {
    "scrolled": true
   },
   "outputs": [],
   "source": [
    "#RERUN YOUR file_to_dict FUNCTION DEFINITION CELL IF YOU MAKE CHANGES TO IT!\n",
    "\n",
    "station_dict = file_to_dict('BARD_coords2.txt')\n",
    "print(station_dict['DIAB'])"
   ]
  },
  {
   "cell_type": "markdown",
   "metadata": {},
   "source": [
    "`DIAB` is a GPS station on Mount Diablo in the San Francisco Bay Area in California: https://seismo.berkeley.edu/station_book/diab.html"
   ]
  },
  {
   "cell_type": "markdown",
   "metadata": {},
   "source": [
    "## Exercise III: Multiple functions\n",
    "\n",
    "It is possible to call other functions within a function. This can be very useful for complex programs. Here's an example program which combines an old function that we used with another function:"
   ]
  },
  {
   "cell_type": "code",
   "execution_count": null,
   "metadata": {},
   "outputs": [],
   "source": [
    "def larger(x, y):\n",
    "    if x > y:\n",
    "        return x\n",
    "    else:\n",
    "        return y\n",
    "\n",
    "def largest_comparison(numlist):\n",
    "    \"\"\"Iterate through a list of numbers (numlist) and print the larger of numlist[i] and numlist[i + 1].\"\"\"\n",
    "    for num in range(len(numlist)-1):\n",
    "        print(larger(numlist[num], numlist[num+1]))  # Here we call the function larger() we defined above\n",
    "\n",
    "# Call the function\n",
    "numlist = [4, 1, 8, 3, 4, 6]\n",
    "largest_comparison(numlist)"
   ]
  },
  {
   "cell_type": "markdown",
   "metadata": {},
   "source": [
    "Experiment with different `numlist` inputs above to make sure things make sense."
   ]
  },
  {
   "cell_type": "markdown",
   "metadata": {},
   "source": [
    "## Deliverable 4 - <font color='red'>Only Required for 636 Students (20 points)</font>\n",
    "\n",
    "For this exercise, reuse the code from Deliverable 3 by making a function which counts the number of stations. The function should be defined as:\n",
    "\n",
    "```python\n",
    "def number_of_stations(file):\n",
    "```\n",
    "\n",
    "Your function should call `file_to_dict()` internally. The idea is to count the number of entries (stations) in the dictionary. You can read the dictionary documentation [here](https://www.tutorialspoint.com/python/python_dictionary.htm) to find an easy way to do this. Again, this function should be **defined in the code cell provided below** such that\n",
    "\n",
    "```python\n",
    "print(number_of_stations('BARD_coords2.txt'))\n",
    "```\n",
    "\n",
    "prints `31`."
   ]
  },
  {
   "cell_type": "code",
   "execution_count": null,
   "metadata": {},
   "outputs": [],
   "source": [
    "def number_of_stations(file):\n",
    "    pass  # Replace this line with your lines of code!\n",
    "\n",
    "print(number_of_stations('BARD_coords2.txt'))"
   ]
  }
 ],
 "metadata": {
  "celltoolbar": "Tags",
  "kernelspec": {
   "display_name": "Python 3 (ipykernel)",
   "language": "python",
   "name": "python3"
  },
  "language_info": {
   "codemirror_mode": {
    "name": "ipython",
    "version": 3
   },
   "file_extension": ".py",
   "mimetype": "text/x-python",
   "name": "python",
   "nbconvert_exporter": "python",
   "pygments_lexer": "ipython3",
   "version": "3.9.13"
  }
 },
 "nbformat": 4,
 "nbformat_minor": 4
}
