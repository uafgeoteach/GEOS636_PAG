{
 "cells": [
  {
   "cell_type": "markdown",
   "metadata": {},
   "source": [
    "# Lab 12 — GMT Part 1\n",
    "---\n",
    "\n",
    "## Introduction\n",
    "\n",
    "Today's lab will cover some of the introductory [Generic Mapping Tools (GMT)](https://www.generic-mapping-tools.org/) discussed in lecture. You will start with a sample script for a map of Alaska, make simple maps for your research area, and then move on to adding data to maps.\n",
    "\n",
    "GMT has a fairly steep learning curve because of the vast number of command-line options available to you to control figures. Even though you could build figures by typing the commands onto the command-line one by one, it is much easier (and much more reproducible) if you keep your figure-building commands in a script. Once you master scripts for a few figures, you can keep modifying scripts for new figures.\n",
    "\n",
    "Because of the large number of command-line modules and options for each module in GMT, it is critical that you become familiar with the GMT help system. The [GMT webpages](https://www.generic-mapping-tools.org/) are a great resource — these provide [manual pages](https://docs.generic-mapping-tools.org/latest/modules.html) for each command that list, in great detail, all the parameters that are possible for each command. The GMT webpages also have [tutorial pages](https://docs.generic-mapping-tools.org/latest/tutorial.html) as well as a \"[cookbook](https://docs.generic-mapping-tools.org/latest/cookbook.html)\" that provides a variety of example plots along with the commands and parameters required to reproduce them. Take advantage of these examples — it really is one of the best ways to learn how to use GMT, and you can then modify the commands to produce the variant of figure that you need.\n",
    "\n",
    "GMT documentation main page: [here](https://docs.generic-mapping-tools.org/latest/)\n",
    "\n",
    "From that starting page, you can review the various commands/modules available [here](https://docs.generic-mapping-tools.org/latest/modules.html#session-management). Clicking on each module will take you to the manual page for that module. The detailed manual pages provide a brief summary of the module and parameter flags available, a longer description of what the module actually does, followed by a list of the parameters/arguments available. The current documentation is nicely structured in that it includes a list and explanation of each required parameter up front, followed by optional parameters. That way you know the minimum information needed to get output. Each entry also has an example near the end of the page.\n",
    "\n",
    "## Submission\n",
    "\n",
    "Your deliverable for this lab will NOT be a completed notebook this time around! Instead, please submit 1) a shell script file and 2) a PNG image **for each deliverable below**. Name these with the deliverable number, e.g. `D1.sh`, `D1.png`, etc. Create a ZIP file (critical because Blackboard does not accept shell scripts) and submit it to Canvas under the Lab 12 assignment **no later than midnight Thursday, November 18th**.\n",
    "\n",
    "## Installing GMT to OpenSARLab\n",
    "\n",
    "This is a temporary installation (all that OSL currently allows) of GMT. To be able to do this, we need to create a new conda environment, and then install the GMT package into this. Execute the code cell below and be a bit patient."
   ]
  },
  {
   "cell_type": "code",
   "execution_count": null,
   "metadata": {},
   "outputs": [],
   "source": [
    "# Create new environment\n",
    "!conda create -y -n pag_gmt\n",
    "\n",
    "# Initialize all conda shells\n",
    "!conda init --all\n",
    "\n",
    "# Install GMT\n",
    "!conda install -y -n pag_gmt gmt -c conda-forge"
   ]
  },
  {
   "cell_type": "markdown",
   "metadata": {},
   "source": [
    "With this done, you can now open a Terminal window. In it do:\n",
    "\n",
    "* type `bash` to start a new shell\n",
    "* type `conda activate pag_gmt` to activate the conda environment that has GMT installed into it\n",
    "* type `gmt --version` to confirm that it is installed. \n",
    "\n",
    "You should see something like this:\n",
    "```\n",
    "jovyan@jupyter-ldtoney:~$ bash\n",
    "(base) jovyan@jupyter-ldtoney:~$ conda activate pag_gmt\n",
    "(pag_gmt) jovyan@jupyter-ldtoney:~$ gmt --version\n",
    "6.1.1\n",
    "```"
   ]
  },
  {
   "cell_type": "markdown",
   "metadata": {},
   "source": [
    "## Exercise 1: Sample GMT scripting\n",
    "\n",
    "For this first section, review the sample script called `example_gmt_script` which is located in `GEOSF636_PAG/labs/lab_12/`. This script will generate a PNG file that contains a map of Alaska, including shaded relief as well as national boundaries. As a starting point, look through the script and run it once to see what the generated output looks like. Then comment out various lines in the script to explore what the various commands do.\n",
    "\n",
    "## Deliverable 1: Test of example script — explore the options\n",
    "\n",
    "Modify `example_gmt_script` to create a map of Alaska with:\n",
    "\n",
    "* national boundaries as red lines\n",
    "* a 400 km scale\n",
    "* a rainbow colormap for the shaded relief\n",
    "* Fairbanks marked with a red square\n",
    "\n",
    "## Deliverable 2: Regional map of research area\n",
    "\n",
    "Create a map of the continent (e.g., North America) where your research area (or another spot if you are doing some sort of theoretical study) is located. Use a [Lambert projection](https://docs.generic-mapping-tools.org/6.0/cookbook/map_projections.html#lambert-azimuthal-equal-area-ja-ja), color land masses light brown, water white, any state/country borders in green, and include a map scale in the bottom right corner. Set the latitude and longitude tickmarks at a reasonable range and interval for your region and display them on the west and south portions of the map.\n",
    "\n",
    "## Deliverable 3: Close-up of research area\n",
    "\n",
    "Create a map of your research area (or some other spot if you are doing some sort of theoretical study). Use a [Mercator projection](https://docs.generic-mapping-tools.org/6.0/cookbook/map_projections.html#mercator-projection-jm-jm), color land masses light brown, water blue, any state/country borders in green, and include a map scale in the bottom right corner. Set the latitude and longitude tickmarks at a reasonable range and interval for your region and display them on the west and south portions of the map.\n",
    "\n",
    "## Deliverable 4: Map of Alaska seismicity\n",
    "\n",
    "Now that you are experts in creating simple maps, you will now gain experience adding additional information to them. The ability to add additional data to the plots is incredibly useful — you can think about this as layering more and more information to the underlying basemap that you already created. Examples of additional data layers include geographic locations of sample locations, stations, volcanoes, faults, etc.\n",
    "\n",
    "We'll explore more complex plotting next week by adding in a wide range of data, but for this week, you'll work with a simple map, adding in locations of earthquakes. We've a provided a data file for use here, and we provide some help, but reading the documentation will be essential.\n",
    "\n",
    "We'll be using data from `query.csv` that is in the `lab_12` folder. To extract the earthquakes that are within a certain lat-lon box, you can use `awk` again, expanding on our usage from lab 10:\n",
    "\n",
    "```\n",
    "awk -F, 'NR>1 {print $3, $2, $4, $5}' query.csv > ak_eqs.xy\n",
    "```\n",
    "\n",
    "First, use [`makecpt`](https://docs.generic-mapping-tools.org/latest/makecpt.html) to make a color palette based on the `ak_eqs.xy` file. \n",
    "\n",
    "Plot the [coast](https://docs.generic-mapping-tools.org/latest/coast.html), color the land white, and the ocean blue. Set the latitude and longitude ticks to plot every 2.5 degrees and annotate every 5 degrees. Create a [stereographic](https://docs.generic-mapping-tools.org/6.0/cookbook/map_projections.html#stereographic-equal-angle-projection-js-js) projection map of earthquakes located in southern Alaska in the region:\n",
    "\n",
    "```\n",
    "min_lat=50\n",
    "max_lat=65\n",
    "min_lon=-170\n",
    "max_lon=-125\n",
    "```\n",
    "\n",
    "Now use [`plot`](https://docs.generic-mapping-tools.org/latest/plot.html) to plot the earthquakes as circles that have a color that changes with depth, pick a size that results in a legible map. Bonus: use `-i0,1,2,3+s0.03` and the appropriate symbols in the `-S` string to scale the circles by their magnitude. If you do this, explain with a comment in your script what the `-i` flag does.\n",
    "\n",
    "Include a [colorbar](https://docs.generic-mapping-tools.org/latest/colorbar.html) representing the depth scale. "
   ]
  }
 ],
 "metadata": {
  "celltoolbar": "Tags",
  "kernelspec": {
   "display_name": "Python 3",
   "language": "python",
   "name": "python3"
  },
  "language_info": {
   "codemirror_mode": {
    "name": "ipython",
    "version": 3
   },
   "file_extension": ".py",
   "mimetype": "text/x-python",
   "name": "python",
   "nbconvert_exporter": "python",
   "pygments_lexer": "ipython3",
   "version": "3.8.6"
  }
 },
 "nbformat": 4,
 "nbformat_minor": 4
}
