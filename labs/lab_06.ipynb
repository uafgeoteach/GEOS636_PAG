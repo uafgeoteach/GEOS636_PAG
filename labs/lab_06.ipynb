{
 "cells": [
  {
   "cell_type": "markdown",
   "metadata": {},
   "source": [
    "# **Lab 6 — Inputs and Outputs**\n",
    "---\n",
    "\n",
    "## Introduction\n",
    "\n",
    "A proper understanding of how to get information into and out of your programs is essential for making them useful! This concept is often called \"I/O\" — short for \"input/output\" — and it encompasses reading in and writing files as well as printing information to the console for immediate viewing. In this lab, we will cover several types of I/O using Python's built-in `print()` function with string formatting as well as file I/O with NumPy and pandas.\n",
    "\n",
    "**New this week:** Your deliverable for this lab will be a ZIP file containing this notebook, with \"deliverables\" completed as requested below, as well as two additional files required for Deliverable 3. Please rename your ZIP file to `<last_name>_lab_06.zip` prior to submission. Submit your ZIP file to Canvas under the Lab 6 assignment no later than **midnight Thursday, October 7th**.\n",
    "\n",
    "## Resources\n",
    "\n",
    "[Python output formatting](https://docs.python.org/3/tutorial/inputoutput.html)  \n",
    "[NumPy I/O](https://numpy.org/doc/stable/user/basics.io.genfromtxt.html)  \n",
    "[pandas I/O](https://pandas.pydata.org/pandas-docs/stable/user_guide/io.html)\n",
    "\n",
    "## Exercise I: Python's `print()` function and string formatting\n",
    "\n",
    "In many previous labs you have made use of the `print()` function to show the contents of variables. You've also displayed the values of variables or calculations by simply entering them on their own line at the end of a cell:"
   ]
  },
  {
   "cell_type": "code",
   "execution_count": null,
   "metadata": {},
   "outputs": [],
   "source": [
    "#notice that one line below is simply printed, and the other is marked as 'Out:'\n",
    "x = 5\n",
    "print(x)\n",
    "x ** 2"
   ]
  },
  {
   "cell_type": "markdown",
   "metadata": {},
   "source": [
    "You've probably noticed that this occurs only if the variable is on the **last** line of the cell. So this doesn't display anything:"
   ]
  },
  {
   "cell_type": "code",
   "execution_count": null,
   "metadata": {},
   "outputs": [],
   "source": [
    "x\n",
    "y = 6"
   ]
  },
  {
   "cell_type": "markdown",
   "metadata": {},
   "source": [
    "And this only displays the value of the variable placed on the **last** line:"
   ]
  },
  {
   "cell_type": "code",
   "execution_count": null,
   "metadata": {},
   "outputs": [],
   "source": [
    "x\n",
    "y"
   ]
  },
  {
   "cell_type": "markdown",
   "metadata": {},
   "source": [
    "In general, you want to use the `print()` function explicitly to reliably show information to the user. Showing variables by leaving them as the last line in a code cell is for helpful interactive display only — it isn't as robust and it doesn't work everywhere (once you switch from notebooks to scripts, you will have to use `print()` as nothing will be implicitly displayed).\n",
    "\n",
    "Note that you do not need to provide a string to `print()`. For example, the following all work:"
   ]
  },
  {
   "cell_type": "code",
   "execution_count": null,
   "metadata": {},
   "outputs": [],
   "source": [
    "print(5)  # An integer\n",
    "\n",
    "print(6.893)  # A float\n",
    "\n",
    "print({'cat': 'liquid'})  # A dictionary\n",
    "\n",
    "import numpy as np\n",
    "print(np.array([1, 2, 3]))  # A NumPy array"
   ]
  },
  {
   "cell_type": "markdown",
   "metadata": {},
   "source": [
    "This works because Python internally converts these objects to strings before displaying them. For more control, however, you'll want to format things into strings before printing them. You can do this using the [`format()` method](https://www.w3schools.com/python/ref_string_format.asp) of strings. This allows you to insert values into a string, as well as format those inserted values to your liking. You place open brackets `{}` where you want values to be inserted in the string; the values to be placed are provided as inputs to `format()`. This is useful if you want to print the value stored in a variable. Here are some examples:"
   ]
  },
  {
   "cell_type": "code",
   "execution_count": null,
   "metadata": {},
   "outputs": [],
   "source": [
    "print('My dog is {} years old.'.format(5))\n",
    "\n",
    "lat_lon = (64.8378, 147.7164)\n",
    "print('Fairbanks is located at: {}ºN, {}ºW'.format(lat_lon[0], lat_lon[1]))  # Multiple inputs are OK, as long as you have enough open brackets\n",
    "\n",
    "print('{:.2f} is short for {}.'.format(np.pi, np.pi))"
   ]
  },
  {
   "cell_type": "markdown",
   "metadata": {},
   "source": [
    "The last line formatted `np.pi` (which is a long float with the digits of $\\pi$) by truncating it to two digits after the decimal place. This was accomplished by providing a formatting code inside the brackets — `:.2f` in this case.\n",
    "\n",
    "A breakdown of the format code:\n",
    "\n",
    "* `:` signals that we're specifying a format code — you always need this\n",
    "* `.2` says that we want 2 digits after the decimal\n",
    "* `f` says we want to format the number as a float\n",
    "\n",
    "There is a lot you can do with these, but the syntax is tricky so it's best to learn by example. Take a look at more examples [here](https://docs.python.org/3/library/string.html#format-examples) if you're curious, but we won't dive into these further.\n",
    "\n",
    "## Deliverable 1: String formatting\n",
    "\n",
    "In a **new code cell** below, write **5 print statements** that use the string `format()` method. There is plenty of room for creativity here!"
   ]
  },
  {
   "cell_type": "markdown",
   "metadata": {},
   "source": [
    "## Exercise II: File I/O with NumPy\n",
    "\n",
    "Documentation:\n",
    "* [`loadtxt()`](https://numpy.org/doc/stable/reference/generated/numpy.loadtxt.html)\n",
    "* [`genfromtxt()`](https://numpy.org/doc/stable/reference/generated/numpy.genfromtxt.html)\n",
    "* [`savetxt()`](https://numpy.org/doc/stable/reference/generated/numpy.savetxt.html)\n",
    "\n",
    "### Reading files\n",
    "\n",
    "For reading in files using NumPy, there are two main options: `loadtxt()` and `genfromtxt()`. Using `genfromtxt()` allows for more flexibility in terms of handling missing data and handling different data types.\n",
    "\n",
    "First, let's download a text file called `station.txt` and view its contents:"
   ]
  },
  {
   "cell_type": "code",
   "execution_count": null,
   "metadata": {},
   "outputs": [],
   "source": [
    "!curl -O -s http://www.grapenthin.org/teaching/geop501/download/lab07/station.txt  # Download the file\n",
    "!cat station.txt  # Display the contents"
   ]
  },
  {
   "cell_type": "markdown",
   "metadata": {},
   "source": [
    "The output you see above is what you'd see if you opened `station.txt` in a text editor. This gives you an idea of how the text file is organized. Here are two examples which read this file in using NumPy functions:"
   ]
  },
  {
   "cell_type": "code",
   "execution_count": null,
   "metadata": {},
   "outputs": [],
   "source": [
    "# This approach skips the first line of the file, which contains column names, using \"skip_header=1\"\n",
    "example_array = np.genfromtxt('station.txt', encoding='utf-8', dtype=None, delimiter=' ', skip_header=1)\n",
    "\n",
    "# This approach actually uses the header line to name the output variables, using \"names=True\"\n",
    "example_array = np.genfromtxt('station.txt', encoding='utf-8', dtype=None, delimiter=' ', names=True)\n",
    "\n",
    "# Now this gives you a NumPy array of the values of the \"Name\" column\n",
    "print(example_array['Name'])"
   ]
  },
  {
   "cell_type": "markdown",
   "metadata": {},
   "source": [
    "Note that `delimiter=' '` specifies what is separating the columns — in this case, a [blank space](https://www.youtube.com/watch?v=e-ORhEE9VVg&ab_channel=TaylorSwiftVEVO). A file with commas as delimiters instead would have lines like this:\n",
    "```\n",
    "ANMO,34.9500,-106.4600,1820,1,2\n",
    "```\n",
    "This is commonly known as a \"comma-separated values\" file or CSV file. Sound familiar?\n",
    "\n",
    "### Writing files\n",
    "\n",
    "To write a file using NumPy, you can use `savetxt()` to save arrays using defined formats. An example to write out the `example_array` to a new file called `file_out.txt` is below. In this example, `fmt` is defining the variable types for each column in `example_array` to be saved to the file (`%s` = string, `%f` = float, `%i` = integer)."
   ]
  },
  {
   "cell_type": "code",
   "execution_count": null,
   "metadata": {},
   "outputs": [],
   "source": [
    "np.savetxt('file_out.txt', example_array, fmt='%s %f %f %i %i %i')\n",
    "\n",
    "!cat file_out.txt  # View the file contents"
   ]
  },
  {
   "cell_type": "markdown",
   "metadata": {},
   "source": [
    "## Exercise II: File I/O with pandas\n",
    "\n",
    "Documentation:\n",
    "* [`read_csv()`](https://pandas.pydata.org/pandas-docs/stable/reference/api/pandas.read_csv.html)\n",
    "* [`read_excel()`](https://pandas.pydata.org/pandas-docs/stable/reference/api/pandas.read_excel.html)\n",
    "* [`to_csv()`](https://pandas.pydata.org/pandas-docs/stable/reference/api/pandas.DataFrame.to_csv.html)\n",
    "* [`to_excel()`](https://pandas.pydata.org/pandas-docs/stable/reference/api/pandas.DataFrame.to_excel.html)\n",
    "\n",
    "### Reading files\n",
    "\n",
    "We spent time in the last lab working with DataFrames in the pandas library, so it's worth knowing how to bring data from files directly into a DataFrame. It is fairly straightforward to bring this in, similar to what we've used in the earlier sections, although pandas allows us to bring in data from text files and Excel (as well as a lot of other file formats). Try the following:"
   ]
  },
  {
   "cell_type": "code",
   "execution_count": null,
   "metadata": {},
   "outputs": [],
   "source": [
    "#RUN THESE NECESSARY INSTALLS BEFORE TRYING THE FOLLOWING LINES\n",
    "!pip install pandas\n",
    "!pip install openpyxl"
   ]
  },
  {
   "cell_type": "code",
   "execution_count": null,
   "metadata": {},
   "outputs": [],
   "source": [
    "import pandas as pd\n",
    "station_df = pd.read_csv('station.txt', sep=' ', header=0)\n",
    "station_df"
   ]
  },
  {
   "cell_type": "markdown",
   "metadata": {},
   "source": [
    "You now have a DataFrame called `station_df` that contains all the information from the file `station.txt`. You can then work with the DataFrame as we discussed last week, pulling out values in the named columns as needed, using indexing, labels, etc. Note how similar the structure of the DataFrame is to the file structure (compare to the `!cat station.txt` cell above). This is very handy!\n",
    "\n",
    "Importing data from Excel files is similarly easy:"
   ]
  },
  {
   "cell_type": "code",
   "execution_count": null,
   "metadata": {},
   "outputs": [],
   "source": [
    "!curl -O -s http://www.grapenthin.org/teaching/geop501/download/lab07/station.xlsx  # Download an Excel file\n",
    "\n",
    "station_df_excel = pd.read_excel('station.xlsx')\n",
    "station_df_excel"
   ]
  },
  {
   "cell_type": "markdown",
   "metadata": {},
   "source": [
    "### Writing files\n",
    "\n",
    "pandas DataFrames have `to_csv()` and `to_excel()` methods built in. To write `station_df` to a CSV file, for example, all we have to do is:"
   ]
  },
  {
   "cell_type": "code",
   "execution_count": null,
   "metadata": {},
   "outputs": [],
   "source": [
    "station_df.to_csv('station.csv', index=False)\n",
    "!cat station.csv  # View the resulting file"
   ]
  },
  {
   "cell_type": "markdown",
   "metadata": {},
   "source": [
    "Note that we used `index=False` above to avoid writing the \"index\" column which is the first column by default in any DataFrame.\n",
    "\n",
    "## Deliverable 2: Practice with CSV file I/O\n",
    "\n",
    "For this deliverable, you'll need to get the file `Bogoslof_SO2_per_event.csv` To do this, execute the following code cell:\n",
    "\n"
   ]
  },
  {
   "cell_type": "code",
   "execution_count": 10,
   "metadata": {
    "scrolled": false
   },
   "outputs": [],
   "source": [
    "!curl -O -s https://github.com/uafgeoteach/GEOS636_PAG/blob/master/labs/Bogoslof_SO2_per_event.csv"
   ]
  },
  {
   "cell_type": "markdown",
   "metadata": {},
   "source": [
    "To verify that the file made it, execute\n",
    "\n",
    "\n",
    "```\n",
    "!ls\n",
    "```\n",
    "\n",
    "in a new code cell — you should see the filename listed. (We'll talk way more about commands like this one later in the semester!) You should also see the file in the Jupyter file browser.\n",
    "\n",
    "### About the file\n",
    "\n",
    "This CSV file contains information about the volcanic gases emitted by Bogoslof volcano during a series of more than 30 explosive eruptive events occurring in 2016–2017. Bogoslof Island is located in the southern Bering Sea (north of the Aleutian volcanic arc). From the Alaska Volcano Observatory (AVO) website:\n",
    "\n",
    "> Bogoslof Island is the largest of a cluster of small, low-lying islands comprising the emergent summit of a large submarine stratovolcano.\n",
    "\n",
    "The island itself is highly dynamic due to the eruptive and erosional processes constantly shaping it — here's a view from August 2017, courtesy Dave Withrow (NOAA/Fisheries).\n",
    "\n",
    "![Oblique view of Bogoslof Island](https://www.avo.alaska.edu/images/dbimages/display/1503799877.jpg)\n",
    "\n",
    "For each eruptive event, AVO calculated the mass of sulfur dioxide (SO<sub>2</sub>) emitted using satellite measurements. The provided file has columns of event number, eruption onset time, mass of SO<sub>2</sub> emitted (in kt), time of the satellite SO<sub>2</sub> measurement, and volcanic plume height. Note that 1 kt (kiloton) = 1000 metric tons, and 1 metric ton = 1000 kg.\n",
    "\n",
    "### Your task\n",
    "\n",
    "In a **new code cell below**, read this CSV into Python using pandas, modify the SO<sub>2</sub> mass column so that the units are in kg (and rename the column header to match!) and write out a new CSV file that reflects this modification.\n",
    "\n",
    "**Notes:**\n",
    "\n",
    "* Demonstrate that your output file reflects the requested modifications by typing `!head <filename>` where `<filename>` is the name of your output CSV file. This will show the first few lines of the CSV file.\n",
    "* To rename a column of a pandas DataFrame, you may use the syntax: `df = df.rename(columns=<rename_dict>)` where `df` is your DataFrame and `<rename_dict>` is a dictionary with keys (strings) specifying the current column names and values (strings) specifying the desired names.\n",
    "* Remember to use `index=False` when writing the new CSV to avoid adding the index column!"
   ]
  },
  {
   "cell_type": "markdown",
   "metadata": {},
   "source": [
    "## Deliverable 3: I/O with your own file\n",
    "\n",
    "For this last deliverable, we want you to practice on a file relevant to your own research. Find a text/CSV/Excel file associated with your research, and do the following:\n",
    "\n",
    "1. Upload the file to Opensarlabs (see instructions in D2)\n",
    "2. Read the file in using NumPy or pandas\n",
    "3. Modify the file somehow, like we did in D2 — change the units, add or remove columns, and a row, etc. using NumPy and/or pandas tools\n",
    "4. Write out the modified contents to a new file **of the same type as the input file** — that means Excel in, Excel out, for example!\n",
    "5. Download the new file to your local machine (click the box next to the file in opensarlabs and click download in the top right)\n",
    "6. Once you have the three files to submit saved on your local computer (this .ipynb file, the original input file, your modified output file) place them in a folder and \"zip\" that folder in a .zip file. On most computers this can be done by right-clicking the folder and choosing \"compress\". If you are having trouble with this ask for help.\n",
    "\n",
    "\n",
    "Steps 2–4 should take place in a **new code cell** below.\n",
    "\n",
    "---\n",
    "\n",
    "🚨 **For this lab, you MUST submit a ZIP file containing three items: This notebook, your original file for D3, and your modified file for D3!** 🚨\n",
    "\n",
    "**Note:** If you can't find any candidate file on your own computer, find an interesting text/CSV/Excel file on the internet, download it, and use it here. But we prefer for you to use something relevant to your research if at all possible!"
   ]
  }
 ],
 "metadata": {
  "kernelspec": {
   "display_name": "Python 3",
   "language": "python",
   "name": "python3"
  },
  "language_info": {
   "codemirror_mode": {
    "name": "ipython",
    "version": 3
   },
   "file_extension": ".py",
   "mimetype": "text/x-python",
   "name": "python",
   "nbconvert_exporter": "python",
   "pygments_lexer": "ipython3",
   "version": "3.8.5"
  }
 },
 "nbformat": 4,
 "nbformat_minor": 4
}
