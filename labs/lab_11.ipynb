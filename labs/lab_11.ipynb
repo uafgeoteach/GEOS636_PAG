{
 "cells": [
  {
   "cell_type": "markdown",
   "metadata": {},
   "source": [
    "# Lab 11 — Putting it all together\n",
    "---\n",
    "\n",
    "## Introduction\n",
    "\n",
    "In this lab you will combine your Python and Unix knowledge by writing a complete processing pipeline which downloads a file, manipulates it, reads it into Python and plots the data it contains.\n",
    "\n",
    "Your deliverable for this lab will be this notebook, with answers to questions completed as requested below. Please rename the notebook from `lab_11.ipynb` to `<last_name>_lab_11.ipynb` prior to submission. Download the completed file by checking its box in the JupyterHub file browser and selecting **Download** from the menu that appears. Submit it to Blackboard under the Lab 11 assignment **no later than midnight Thursday, November 11th**.\n",
    "\n",
    "## Deliverable 1 — Selection and justification of dataset\n",
    "\n",
    "In a **new text cell below**, please provide the link to the dataset you intend to use for this lab. This should be a dataset which you can download using Unix tools. Describe the relevance of the dataset to your research and/or class project. If you cannot find a suitable dataset, please use some other data you find on the internet (see \"Week 9 - Getting Data\" lecture) and explain why you had to use that data."
   ]
  },
  {
   "cell_type": "markdown",
   "metadata": {},
   "source": [
    "## Deliverable 2 — Writing the code\n",
    "\n",
    "Now, write some code to work with this data. To achieve full points for this lab, your code must include the following:\n",
    "\n",
    "1. A `curl` or `wget` command which downloads the data that you described in Deliverable 1 (above) from a remote server\n",
    "2. An `awk` command which selects only specific columns from the data, and writes them to a new file\n",
    "3. Python code which:\n",
    "    1. Reads in the file which you wrote in step 2\n",
    "    2. Plots the data\n",
    "\n",
    "Your final product should be provided in a **single code cell below** — make sure that this runs correctly prior to submitting. See the note below for guidance on how to call Unix tools from a code cell.\n",
    "\n",
    "> **Note:** You can run Unix terminal commands from a Jupyter Notebook code cell by adding an exclamation mark `!` before the command. For example:\n",
    "> ```\n",
    "> x = 47\n",
    "> !head -n $x Bogoslof_SO2_per_event.csv | wc -l\n",
    "> print(x)\n",
    "> ```\n",
    ">  As shown above, `!` commands execute Unix commands, but co-exist with Python code — this is why you can place your entire answer in a single code cell. Note that you can pass Python variables to those calls as demonstrated above with the variable `x`, whose value can be passed to the `head` command with `$x` "
   ]
  }
 ],
 "metadata": {
  "celltoolbar": "Tags",
  "kernelspec": {
   "display_name": "Python 3",
   "language": "python",
   "name": "python3"
  },
  "language_info": {
   "codemirror_mode": {
    "name": "ipython",
    "version": 3
   },
   "file_extension": ".py",
   "mimetype": "text/x-python",
   "name": "python",
   "nbconvert_exporter": "python",
   "pygments_lexer": "ipython3",
   "version": "3.8.6"
  }
 },
 "nbformat": 4,
 "nbformat_minor": 4
}
