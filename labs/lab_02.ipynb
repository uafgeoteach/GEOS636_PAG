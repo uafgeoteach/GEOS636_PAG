{
 "cells": [
  {
   "cell_type": "markdown",
   "metadata": {},
   "source": [
    "# **Lab 2 — Python, Variables**\n",
    "---\n",
    "\n",
    "## Lab slides\n",
    "\n",
    "[Logic (Google Slides from this week's slide deck)](https://docs.google.com/presentation/d/1bggJRtV4iCLyDNFRKhkWmni7JMZKmTVz-4aSklsV6qw/edit?slide=id.g2426f23d124_4_425#slide=id.g2426f23d124_4_425)\n",
    "\n",
    "## Introduction\n",
    "\n",
    "Time to get hands-on with Python! Today we want you to play with variables, arithmetic operators, comparison operators, and strings. This is a basis to understand flow control later on.\n",
    "\n",
    "Your deliverable for this lab will be this notebook, with **additional text cells and code cells completed as requested below**. Please rename the notebook from `lab_02.ipynb` to `<last_name>_lab_02.ipynb` prior to submission. Download the file using **File $\\rightarrow$ Download**. Submit it to Canvas as a .ipynb file under the Lab 2 assignment **no later than 5pm next Thursday**.\n",
    "\n",
    "## Resources\n",
    "\n",
    "[Operators](https://www.tutorialspoint.com/python/python_basic_operators.htm)  \n",
    "[Variables](https://www.tutorialspoint.com/python/python_variable_types.htm)  \n",
    "[Strings](https://www.tutorialspoint.com/python/python_strings.htm)  \n",
    "\n",
    "<font color=\"red\" size=3><b>Run the cell below first! It enables printing of the output for all operations to be printed in the results, not just the last operation</b></font>"
   ]
  },
  {
   "cell_type": "code",
   "execution_count": null,
   "metadata": {
    "tags": []
   },
   "outputs": [],
   "source": [
    "#Run this cell first! This cell allows the output of all lines to be read, not just the last one.\n",
    "from IPython.core.interactiveshell import InteractiveShell\n",
    "InteractiveShell.ast_node_interactivity = \"all\""
   ]
  },
  {
   "cell_type": "markdown",
   "metadata": {},
   "source": [
    "## Deliverable 1: Assignment <font color='red'>(10 points)</font>\n",
    "\n",
    "In this first exercise we're going to learn how to create variables. Variables are reserved memory locations to store values which can be referenced and manipulated by a computer program. You can think of a variable as a box that you put things in. The box has a name that you have to use in order to see or change what is in the box. We're going to make a variable named `test_var` and print its value. The code cell uses a Python built-in fuction named `print` - you'll learn more about functions in Lab 4. For now just use the code cell below as a template for how to use `print` in your own code cells later on."
   ]
  },
  {
   "cell_type": "code",
   "execution_count": null,
   "metadata": {
    "tags": []
   },
   "outputs": [],
   "source": [
    "test_var = 1  # Assign the integer 1 to the name test_var; no output produced\n",
    "print(test_var)"
   ]
  },
  {
   "cell_type": "markdown",
   "metadata": {},
   "source": [
    "Remember that variable are persistent across code cells in JupyterHub. Make a new code cell below. First print the value of test_var to see that is it the same as in the code cell above, then assign a different value to `test_var` and print it again. Finally initialize a new variable to a value of your choice and print the value."
   ]
  },
  {
   "cell_type": "markdown",
   "metadata": {},
   "source": [
    "## Deliverable 2: Arithmetic Operators <font color='red'>(15 points)</font>"
   ]
  },
  {
   "cell_type": "markdown",
   "metadata": {},
   "source": [
    "You can perform mathematical operations in Python using constants (i.e. a number) and variables. The following cell declares two variables, `x` and `y`, and then demonstrates the arithmetic operators available in Python.\n",
    "\n",
    "```python\n",
    "x = 7\n",
    "y = 2\n",
    "\n",
    "x + y\n",
    "y - 2\n",
    "x * 5\n",
    "x / y\n",
    "x % y\n",
    "x ** y\n",
    "x // y\n",
    "```"
   ]
  },
  {
   "cell_type": "code",
   "execution_count": null,
   "metadata": {},
   "outputs": [],
   "source": [
    "# Try out each of the operators above in this code cell"
   ]
  },
  {
   "cell_type": "markdown",
   "metadata": {},
   "source": [
    "**Explain what the `%`, `**`, and `//` operators are doing in the text cell below.** Feel free to consult the internet for help but the explanation should be in your own words."
   ]
  },
  {
   "cell_type": "markdown",
   "metadata": {},
   "source": []
  },
  {
   "cell_type": "markdown",
   "metadata": {},
   "source": [
    "## Deliverable 3: Comparison Operators <font color='red'>(15 points)</font>\n",
    "\n",
    "There are several different operators that we can use to compare values and variables. See the code cell below and its output.\n",
    "\n",
    "```python\n",
    "a = 2\n",
    "b = 3\n",
    "\n",
    "a > b\n",
    "a < b\n",
    "a >= b\n",
    "a <= b\n",
    "a == b\n",
    "a != b\n",
    "```"
   ]
  },
  {
   "cell_type": "code",
   "execution_count": null,
   "metadata": {},
   "outputs": [],
   "source": [
    "# Try out the operators above in this code cell"
   ]
  },
  {
   "cell_type": "markdown",
   "metadata": {},
   "source": [
    "**Give a brief explanation of each of the comparison operators in the text cell below.** Again, feel free to consult the internet here but don't copy-paste."
   ]
  },
  {
   "cell_type": "markdown",
   "metadata": {},
   "source": []
  },
  {
   "cell_type": "markdown",
   "metadata": {},
   "source": [
    "## Deliverable 4: Data types <font color='red'>(15 points)</font>\n",
    "\n",
    "Now that we understand operators, we're going to look at the different types of variables we can use in Python. To begin we'll need to confront the fact that there are two kinds of numbers in Python, `int` and `float`. For now you can think of the `int` type as storing integer numbers, and the `float` type as storing real numbers. Try the following:\n",
    "\n",
    "```python\n",
    "x = 25\n",
    "x\n",
    "float(x)\n",
    "int(float(x))\n",
    "int(455.2)\n",
    "int(455.7)\n",
    "```"
   ]
  },
  {
   "cell_type": "code",
   "execution_count": null,
   "metadata": {},
   "outputs": [],
   "source": [
    "# Try out the above code in this code cell"
   ]
  },
  {
   "cell_type": "markdown",
   "metadata": {},
   "source": [
    "**What does the `float()` function do to `x`? What happens with the last output? Answer in the text cell below**."
   ]
  },
  {
   "cell_type": "markdown",
   "metadata": {},
   "source": []
  },
  {
   "cell_type": "markdown",
   "metadata": {},
   "source": [
    "Next, try this program:\n",
    "\n",
    "```python\n",
    "y = 5\n",
    "type(y)\n",
    "y\n",
    "y = 5 / 2\n",
    "type(y)\n",
    "y\n",
    "y = 5 / 2.0\n",
    "type(y)\n",
    "y\n",
    "```"
   ]
  },
  {
   "cell_type": "code",
   "execution_count": null,
   "metadata": {},
   "outputs": [],
   "source": [
    "# Try out the above code in this code cell"
   ]
  },
  {
   "cell_type": "markdown",
   "metadata": {},
   "source": [
    "**What does the [`type()`](https://docs.python.org/3/library/functions.html#type) function do? Answer in the text cell below**."
   ]
  },
  {
   "cell_type": "markdown",
   "metadata": {},
   "source": []
  },
  {
   "cell_type": "markdown",
   "metadata": {},
   "source": [
    "## Deliverable 5: Strings <font color='red'>(15 points)</font>\n",
    "\n",
    "Now we're going to learn about strings, which store characters instead of numbers. Strings can be manipulated in different ways. In this example, we're going to use brackets after the string to slice out certain letters. Try this code below:\n",
    "\n",
    "```python\n",
    "text = \"Hello\"\n",
    "text\n",
    "text[0]\n",
    "text[0:2]\n",
    "text = text + \" Hi\"\n",
    "text\n",
    "```"
   ]
  },
  {
   "cell_type": "code",
   "execution_count": null,
   "metadata": {},
   "outputs": [],
   "source": [
    "# Try out the above code in this code cell"
   ]
  },
  {
   "cell_type": "markdown",
   "metadata": {},
   "source": [
    "**Explain how string slicing works based upon the examples you just tried in the text cell below.**"
   ]
  },
  {
   "cell_type": "markdown",
   "metadata": {},
   "source": []
  },
  {
   "cell_type": "markdown",
   "metadata": {},
   "source": [
    "You can do a lot of different things with strings. Consider the below code:\n",
    "\n",
    "```python\n",
    "number = 123\n",
    "type(number)\n",
    "text = str(number)\n",
    "type(text)\n",
    "print(\"Mike's age: \" + text[1:])\n",
    "print(\"Steve's age: \" + text[1:] + \" years\")\n",
    "print(\"Grandpa's age: \" + number)\n",
    "```"
   ]
  },
  {
   "cell_type": "code",
   "execution_count": null,
   "metadata": {},
   "outputs": [],
   "source": [
    "# Try out the above code in this code cell"
   ]
  },
  {
   "cell_type": "markdown",
   "metadata": {},
   "source": [
    "**Explain what's happening above in the text cell below.**"
   ]
  },
  {
   "cell_type": "markdown",
   "metadata": {},
   "source": []
  },
  {
   "cell_type": "markdown",
   "metadata": {},
   "source": [
    "## Deliverable VI: Error codes <font color='red'>(15 points)</font>\n",
    "\n",
    "The last line of code from Exercise IV produced an error code. You cannot combine integers or floats with a string in a print statement. For each line of code below, run the line in a **new code cell**. If an the line produces an error, **1)** explain the error code — what is is, why it occured — in a comment and **2)** describe how you could fix the error in another comment. (If you don't understand the error, ask for help or look it up online.)\n",
    "\n",
    "```python\n",
    "my_favorite_variable\n",
    "test_var2 == 1\n",
    "type()\n",
    "float() = 10\n",
    "text = \"Cat\"; text[6]\n",
    "```\n",
    "\n",
    "I've completed the first one below as an example. Just insert new code cells after mine to address the remaining lines."
   ]
  },
  {
   "cell_type": "code",
   "execution_count": null,
   "metadata": {
    "tags": []
   },
   "outputs": [],
   "source": [
    "my_favorite_variable\n",
    "\n",
    "# This produces a NameError because I never assigned a value to this variable\n",
    "\n",
    "# I can fix it by assigning a value like so:\n",
    "# my_favorite_variable = 42"
   ]
  },
  {
   "cell_type": "markdown",
   "metadata": {},
   "source": [
    "## Deliverable 7: Vectorized Operations <font color='red'>(15 points)</font>\n",
    "    \n",
    "Python, like e.g. MATLAB, is very efficient at vectorizing mathematical operations. What we mean by \"vectorize\" is that a single command will operate on all the elements of a vector (or matrix) at once, and also that Python makes effective use of multiple processors or multiple cores to do many operations simultaneously, making for very fast code execution. Execute the code in the cell below:"
   ]
  },
  {
   "cell_type": "code",
   "execution_count": null,
   "metadata": {
    "tags": []
   },
   "outputs": [],
   "source": [
    "import numpy as np\n",
    "\n",
    "# Create x\n",
    "NUMBER_OF_ENTRIES = 10\n",
    "x = np.linspace(1, 10, NUMBER_OF_ENTRIES)\n",
    "\n",
    "# x^2 method A\n",
    "print('Method A: Start')\n",
    "x2_A = np.empty(x.shape)\n",
    "for i in range(len(x)):\n",
    "    x2_A[i] = x[i] * x[i]\n",
    "print('Method A: End\\n')\n",
    "\n",
    "# x^2 method B\n",
    "print('Method B: Start')\n",
    "x2_B = x * x\n",
    "print('Method B: End')"
   ]
  },
  {
   "cell_type": "markdown",
   "metadata": {},
   "source": [
    "This shows two ways of computing `x`$^2$. The first executes a loop 10 times, each time computing the `i`-th element of the array `x2_A`. The second computes all 10 values in a single statement using the array multiply operator. I've included print statements which mark the start and end times for each computation method. Try the above code with a larger `NUMBER_OF_ENTRIES` than 10 — like 100,000 or 10,000,000.\n",
    "\n",
    "**In the text cell below, explain what you find based upon changing the number of entries in `x`. How does the difference in speed between method A and method B change with length of `x`? Why?**"
   ]
  },
  {
   "cell_type": "markdown",
   "metadata": {},
   "source": []
  }
 ],
 "metadata": {
  "kernelspec": {
   "display_name": "Python 3 (ipykernel)",
   "language": "python",
   "name": "python3"
  },
  "language_info": {
   "codemirror_mode": {
    "name": "ipython",
    "version": 3
   },
   "file_extension": ".py",
   "mimetype": "text/x-python",
   "name": "python",
   "nbconvert_exporter": "python",
   "pygments_lexer": "ipython3",
   "version": "3.13.5"
  }
 },
 "nbformat": 4,
 "nbformat_minor": 4
}
