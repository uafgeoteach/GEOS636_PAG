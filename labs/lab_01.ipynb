{
 "cells": [
  {
   "cell_type": "markdown",
   "metadata": {
    "colab_type": "text",
    "id": "-Mtk-PcrEijG"
   },
   "source": [
    "# **Lab 1 — Introduction**\n",
    "---\n",
    "\n",
    "Hello, and welcome to the first lab for Programming and Automation for Geoscientists (PAG). The goals of this brief initial lab are to\n",
    "\n",
    "1. introduce you to an online computing environment we'll be using this semester, and\n",
    "2. get you thinking (already!) about your end-of-semester project — or a hypothetical project, for undergrads.\n",
    "\n",
    "Your deliverable for this lab will be this notebook, with additional sections as outlined below. Please rename the notebook from `lab_01.ipynb` to `<last_name>_lab_01.ipynb`. For example, I (Ronni Grapenthin) would rename the notebook to `grapenthin_lab_01.ipynb`. You can do this by clicking on the filename in the top-left corner of this window (similar to e.g. Google Docs). Download the completed file by checking its box in the JupyterHub file browser and selecting **Download** from the menu that appears. Submit it to Canvas under the Lab 1 assignment **no later than 5pm on Thursday September 8th**."
   ]
  },
  {
   "cell_type": "markdown",
   "metadata": {
    "colab_type": "text",
    "id": "kW9St-e4Kg83"
   },
   "source": [
    "## **Part 1 — Jupyterhub @ OSL: A consistent computing environment for all**\n",
    "\n",
    "As you've gathered by now, this course is about programming. One important facet of programming is your \"computing environment\" — that is, the computer (or, in geek-speak, the \"machine\") you're programming on and what is installed on that machine. There are many flavors of computing environments, based on your machine's specifications, its operating system, and its age. This can make teaching a class on programming difficult.\n",
    "\n",
    "To circumvent this issue, we're using an online computing environment for PAG called jupyterhub which is part of the openSARlab cloud infrastructure that the Alaska Satellite Facility developed and maintains. Much of what we do will happen in [notebooks](https://jupyter-notebook.readthedocs.io/en/stable/notebook.html) (a lot of useful info behind this link!), like this one. The code you write and execute within a \"notebook\" runs in the cloud — meaning on a server in a (in this case Amazon-owned) serverfarm somewhere. So even though it seems like you're running the code on your machine, it's really just your browser communicating with that server. This ensures that everyone has an identical experience — and it'll make all of our lives easier!"
   ]
  },
  {
   "cell_type": "markdown",
   "metadata": {
    "colab_type": "text",
    "id": "JyG45Qk3qQLS"
   },
   "source": [
    "<h3>What is a notebook?<sup>*</sup></h3>\n",
    "\n",
    "A notebook is a list of cells. Cells contain either explanatory text or executable code and its output. Click a cell to select it.\n",
    "\n",
    "<sup>*</sup>*This section is adapted from the [Overview of Colaboratory Features notebook](https://colab.research.google.com/notebooks/basic_features_overview.ipynb). Check out that notebook for much more info on the structure and operation of Colab notebooks.*"
   ]
  },
  {
   "cell_type": "markdown",
   "metadata": {
    "colab_type": "text",
    "id": "KR921S_OQSHG"
   },
   "source": [
    "### Code cells\n",
    "\n",
    "Below is a **code cell**. Code cells contain bits of Python code that you can edit and run. Click in the cell to select it and execute the contents in the following ways:\n",
    "\n",
    "* Click the **Play / Run icon** up top;\n",
    "* Type **Cmd/Ctrl+Enter** to run the cell in place; or\n",
    "* Type **Shift+Enter** to run the cell and move focus to the next cell (adding one if none exists)\n",
    "\n",
    "(There are additional options for running some or all cells in the **Cell** dropdown menu.) The following cell is a code cell which assigns the integer 47 to a variable named `cat`. Notice that typing the variable name with nothing else just prints its value.\n"
   ]
  },
  {
   "cell_type": "code",
   "execution_count": null,
   "metadata": {
    "cellView": "both",
    "colab": {},
    "colab_type": "code",
    "id": "WUtu4316QSHL"
   },
   "outputs": [],
   "source": [
    "cat = 47\n",
    "cat"
   ]
  },
  {
   "cell_type": "markdown",
   "metadata": {
    "colab_type": "text",
    "id": "iR8QuWi2M5Xy"
   },
   "source": [
    "If the above is the first Python code you've written, congrats! We'll be diving far more into this next week. Below is an empty code cell. Create a new variable (name it however you'd like!) and assign it an integer value, then show that value using the same approach as above. You'll have to *run* the cell to achieve this."
   ]
  },
  {
   "cell_type": "code",
   "execution_count": null,
   "metadata": {
    "colab": {},
    "colab_type": "code",
    "id": "Y9F8wT5lG5Vp"
   },
   "outputs": [],
   "source": []
  },
  {
   "cell_type": "markdown",
   "metadata": {
    "colab_type": "text",
    "id": "oSm6cg__vGHc",
    "slideshow": {
     "slide_type": "subslide"
    }
   },
   "source": [
    "Now create a new code cell below this cell yourself (press the **b** key, or click the plus symbol at the upper left corner of this window), add 10 to the variable you defined above, and show the new result."
   ]
  },
  {
   "cell_type": "markdown",
   "metadata": {
    "colab_type": "text",
    "id": "uI4uPqghMTld"
   },
   "source": [
    "### Some more advanced experimenting\n",
    "\n",
    "A core part of programming is using tools. If you wrote everything \"from scratch\" every time you would spend way too much time programming. Instead you'll use tools that other people have already written to speed up the process, and eventually write tools yourself too! In the next cell we \"import\" two powerful sets of tools, making them available for use in all other cells of the notebook. In programming lingo these sets of tools are known as \"libraries\". The first library, matplotlib, allows you to easily generate plots and other graphics. The second library, numpy, has a lot of powerful routines to create and manipulate multi-dimensional arrays. For now we will use it to generate a list of numbers. Make sure you execute the cell below before continuing on in this section, if you do not the subsequent cells will not work."
   ]
  },
  {
   "cell_type": "code",
   "execution_count": null,
   "metadata": {},
   "outputs": [],
   "source": [
    "from matplotlib import pyplot as plt\n",
    "import numpy as np"
   ]
  },
  {
   "cell_type": "markdown",
   "metadata": {},
   "source": [
    "Below is some simple Python code that makes a plot. We'll talk about what all this stuff does eventually. If you're not familiar with it, just read it like text. Execute it. Now change it such that the slope becomes negative and the line starts at the origin."
   ]
  },
  {
   "cell_type": "code",
   "execution_count": null,
   "metadata": {
    "colab": {},
    "colab_type": "code",
    "id": "zv9eLNWMKwAh"
   },
   "outputs": [],
   "source": [
    "x = np.arange(0.0, 2.0, 0.1)\n",
    "a = 2.3\n",
    "b = 1.9\n",
    "\n",
    "y = a * x + b\n",
    "\n",
    "plt.plot(x, y, 'rx')\n",
    "plt.xlabel('x')\n",
    "plt.ylabel('y')\n",
    "\n",
    "plt.show()"
   ]
  },
  {
   "cell_type": "markdown",
   "metadata": {
    "colab_type": "text",
    "id": "ovkmf-jaO2d_"
   },
   "source": [
    "Here's another graph. This is a sine function. How about you double its frequency?\n"
   ]
  },
  {
   "cell_type": "code",
   "execution_count": null,
   "metadata": {
    "colab": {},
    "colab_type": "code",
    "id": "ZxLHYbBCLzSD"
   },
   "outputs": [],
   "source": [
    "y = np.sin(4 * np.pi * x)\n",
    "plt.plot(x, y, 'r')\n",
    "plt.xlabel('x')\n",
    "plt.ylabel('sin(4 pi x)')\n",
    "plt.show()"
   ]
  },
  {
   "cell_type": "markdown",
   "metadata": {
    "colab_type": "text",
    "id": "T1Nmgu3xQzY2"
   },
   "source": [
    "This probably looks a bit edgy. Go up to where we define `x` using [`np.arange()`](https://numpy.org/doc/stable/reference/generated/numpy.arange.html) ane make the step size smaller until the curve is smooth. You'll have to rerun both code cells. Wondering which of the three parameters is the step size? Here is a useful trick you can do in a Jupyter Notebook - if you want to pull up the documentation for a function you are using you can type the name if the function followed by a question mark into a code cell and then execute the code cell. So in our case you would run \"np.arange?\". Make a new code cell and try that below. The first line of the docstring will tell you which np.arange parameter you need to change in order to change the step size. "
   ]
  },
  {
   "cell_type": "markdown",
   "metadata": {
    "colab_type": "text",
    "id": "Id6tDF1HQSHD"
   },
   "source": [
    "### Text cells\n",
    "\n",
    "This is a **text cell**. Text cells\n",
    "use markdown syntax. To learn more, see the jupyter [markdown\n",
    "guide](https://nbviewer.jupyter.org/github/jupyter/notebook/blob/master/docs/source/examples/Notebook/Working%20With%20Markdown%20Cells.ipynb). When you're done editing, you can press `esc` on your keyboard. Try double-clicking on this cell to see how it's formatted!\n",
    "\n",
    "You can add new cells by using the **a** (above) or **b** (below) keys to insert a cell and then immediately hitting **m** to set the type to Markdown (Text cell). You can also change the type of the current cell in the menu **Cell -> Cell Type -> Code or Markdown**. Or use the dropdown menu in the toolbar.\n",
    "\n",
    "You can move a cell by selecting it and clicking the up and down arrows in the toolbar above (deletion is with the scissor button).\n",
    "\n",
    "Consecutive cells can be selected by \"lasso selection\" by dragging from outside one cell and through the group.  Non-adjacent cells can be selected concurrently by clicking one and then holding down Ctrl while clicking another.  Similarly, using Shift instead of Ctrl will select all intermediate cells."
   ]
  },
  {
   "cell_type": "markdown",
   "metadata": {
    "colab_type": "text",
    "id": "H2Yx2mewvfDC"
   },
   "source": [
    "Go ahead and create a new text cell below this one, with some **bold** and *italic* text. You can also add a link, like [this one](https://en.wikipedia.org/wiki/Kitten), or embed an image:\n",
    "\n",
    "![A kitten](https://static3.depositphotos.com/1000958/117/i/450/depositphotos_1178129-stock-photo-kitten.jpg)\n",
    "\n",
    "Remember, you can always double-click on a text cell to see how it's formatted! **Add your cell below:**"
   ]
  },
  {
   "cell_type": "markdown",
   "metadata": {
    "colab_type": "text",
    "id": "n7K_K32UxdVC"
   },
   "source": [
    "## **Part 2 — Thinking about your [hypothetical] project**\n",
    "\n",
    "As you saw in [the syllabus](https://docs.google.com/document/d/1FOxgxbdafzf2ycREUSqvd6gh6uUToqEnN-ZU3D7ra8k/edit?usp=sharing), graduate students in this course must complete a final project:\n",
    "\n",
    "> Graduate students are expected to carry out a complete project within their own field of specialization (this can and should be something that helps them in their own research).  We want to encourage you to set up an efficient and safe environment in which you apply the methods and tools introduced in class. There are several styles of project that a student could take on, depending on their needs. Flexibility in this regard is beneficial for the students, as they learn more by doing more, and do more when they are excited about and see the relevance of the project. The project must be implemented in code using one of the tools used in the class (or a different tool with instructor permission). The students must turn in complete code (ideally via inviting the instructors to their github repository), raw data files (if larger than 100MB contact instructor), etc, so that the instructor could run their code and replicate their results. Code must be adequately commented. **Sample projects include one of these, at a minimum: (a) reading in data and doing useful manipulation and visualization of the data; (b) constructing a coherent suite of scientific figures or visualizations of data; (c) developing and running a numerical model; (d) writing a program or programs to automate a task that must be done repeatedly (for example, a data processing or analysis task), and using this program to run a substantial amount of data.**\n",
    "\n",
    "I've highlighted the example projects in the above excerpt from the syllabus. The goal of this second part of the lab is to get you thinking about how you will use programming to simplify / improve your research — this is what the projects are about. For undergraduates, its okay to make up a research problem! Or take one from a previous class project. For graduate students, try to make it relevant to your incipient or ongoing research.\n",
    "\n",
    "Please outline your project by **adding your own text cells below each text cell below**. Each has a prompt to get you thinking about the [hypothetical, for undergrads] project. Feel free to liberally use that Markdown you've just learned about."
   ]
  },
  {
   "cell_type": "markdown",
   "metadata": {
    "colab_type": "text",
    "id": "Xt-cNqaVD6As"
   },
   "source": [
    "### The Why: Identification of a problem / task / dataset\n",
    "\n",
    "In a few sentences or bullet points, describe a research-related problem you want to solve, a repetitive task you'd like to automate, or a dataset you'd like to visualize. If using an existing problem / task / dataset, explain its significance to your research. If new, explain why you want to tackle this problem / carry out this task / visualize this dataset. Describe any existing issues and limitations with how you currently solve the problem / carry out the task / visualize the dataset. For example: \"Currently I copy/paste data from this Excel spreadsheet into this other software to do X. This takes a bunch of time, and sometimes I make errors, which is annoying. But this process is important because I need to transfer the data somehow.\""
   ]
  },
  {
   "cell_type": "markdown",
   "metadata": {
    "colab_type": "text",
    "id": "Y4l2-jTkjAFV"
   },
   "source": [
    "### The What: Describe what an ideal outcome would be\n",
    "\n",
    "Given the problem / task / dataset you've identified above, descibe what an ideal \"delieverable\" would look like. For example: \"Pretty plots of the output from my chemical analyzer software\" or \"a code which simulates the propagation of hydroacoustic waves in a stratified ocean\" or \"a publication-ready map of my study area\"."
   ]
  },
  {
   "cell_type": "markdown",
   "metadata": {
    "colab_type": "text",
    "id": "Em4BM1o_m8sQ"
   },
   "source": [
    "### The How: Delineate (or guess!) how programming will assist you achieve the above outcome\n",
    "\n",
    "In a few sentences, describe how you might solve the problem using programming. You may not know exactly which tools you'll need to achieve the outcome you've described above, and that's fine — one of the goals of this class is to expose you to these tools! If this is the case, then guess: \"I think that I can use Python to read in these text files, clean them of bad data, and plot them\" or \"it sounds like the Generic Mapping Tools can help me make a map, but I'll need X data and Y data.\" Check the syllabus and do a little Googling if you get stuck here. This is just to get you thinking about some of the tools we'll explore in the class."
   ]
  }
 ],
 "metadata": {
  "celltoolbar": "Tags",
  "colab": {
   "collapsed_sections": [],
   "name": "lab_01.ipynb",
   "provenance": []
  },
  "kernelspec": {
   "display_name": "Python 3 (ipykernel)",
   "language": "python",
   "name": "python3"
  },
  "language_info": {
   "codemirror_mode": {
    "name": "ipython",
    "version": 3
   },
   "file_extension": ".py",
   "mimetype": "text/x-python",
   "name": "python",
   "nbconvert_exporter": "python",
   "pygments_lexer": "ipython3",
   "version": "3.9.13"
  }
 },
 "nbformat": 4,
 "nbformat_minor": 4
}
