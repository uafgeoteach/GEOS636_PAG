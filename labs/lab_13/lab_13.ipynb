{
 "cells": [
  {
   "cell_type": "markdown",
   "metadata": {},
   "source": [
    "# Lab 13 — GMT Part 2\n",
    "---\n",
    "\n",
    "## Introduction\n",
    "\n",
    "Today's lab will use some of the more complex options in the Generic Mapping Tools we've discussed in lecture.\n",
    "\n",
    "For reference — GMT module documentation pages are [here](https://docs.generic-mapping-tools.org/latest/modules.html). Use these regularly to explore the modules you'll need and see examples of their use.\n",
    "\n",
    "## Submission\n",
    "\n",
    "Your deliverable for this lab will again NOT be a completed notebook! Instead, please submit 1) a shell script file and 2) a PNG image(s) **for each deliverable below**. Name these with the deliverable number, e.g. `D1.sh`, `D1.png`, etc. Create a ZIP file (critical because Blackboard does not accept shell scripts) and submit it to Blackboard under the Lab 13 assignment **no later than 5pm Thursday, November 26th**.\n",
    "\n",
    "## Installing GMT to OpenSARLab\n",
    "\n",
    "This is a temporary installation (all that OSL currently allows) of GMT. To be able to do this, we need to create a new conda environment, and then install the GMT package into this. Execute the code cell below and be a bit patient."
   ]
  },
  {
   "cell_type": "code",
   "execution_count": null,
   "metadata": {},
   "outputs": [],
   "source": [
    "# Create new environment\n",
    "!conda create -y -n pag_gmt\n",
    "\n",
    "# Initialize all conda shells\n",
    "!conda init --all\n",
    "\n",
    "# Install GMT\n",
    "!conda install -y -n pag_gmt gmt -c conda-forge"
   ]
  },
  {
   "cell_type": "markdown",
   "metadata": {},
   "source": [
    "With this done, you can now open a Terminal window. In it do:\n",
    "\n",
    "* type `bash` to start a new shell\n",
    "* type `conda activate pag_gmt` to activate the conda environment that has GMT installed into it\n",
    "* type `gmt --version` to confirm that it is installed. \n",
    "\n",
    "You should see something like this:\n",
    "```\n",
    "jovyan@jupyter-ldtoney:~$ bash\n",
    "(base) jovyan@jupyter-ldtoney:~$ conda activate pag_gmt\n",
    "(pag_gmt) jovyan@jupyter-ldtoney:~$ gmt --version\n",
    "6.1.1\n",
    "```"
   ]
  },
  {
   "cell_type": "markdown",
   "metadata": {},
   "source": [
    "## Deliverable 1: Use GMT to plot bathymetry with illumination\n",
    "\n",
    "For this section, use the GMT \"@\" syntax for retrieving grids from a remote server. You'll use two grids for this deliverable, accessible by `@earth_relief_05m` and `@earth_relief_01m`. Make three maps:\n",
    "\n",
    "1. Bathymetry and topography at 5 minute resolution\n",
    "1. Bathymetry and topography at 1 minute resolution\n",
    "1. Bathymetry and topography at 1 minute resolution, **with** illumination\n",
    "\n",
    "You can put the code to create all three maps into one script if each map has a unique name. Set the map extent to longitudes from -88 to -83 and latitudes from 6.5 to 11.5. You should be able to see the effect of using a finer topography/bathymetry grid.\n",
    "\n",
    "## Deliverable 2: Use GMT to plot sediment thickness\n",
    "\n",
    "In this exercise, we've provided a version of global sediment thickness in a grid file able to be read by GMT (`GlobSed-v2.nc` in the `lab_13` directory). The data are average sediment thickness (in m) within a 5 minute cell, and more information for this dataset is available here: [NGDC sediment data](https://www.ngdc.noaa.gov/mgg/sedthick/). Make a plot of sediment thickness in the Gulf of Mexico using a reasonable color palette. Include a map scale, a colorbar, and a title for the plot.\n",
    "\n",
    "## Deliverable 3: Use GMT to plot data in xyz format — Aleutian arc slab position\n",
    "\n",
    "In this section, you will work with data contained in a data table which you will need to plot in GMT. The data in this case is latitude, longitude, and depth (km) for the position of the subducted slab which forms the Aleutian trench. The source of the data is the [USGS Slab2 model for the Alaska region](https://www.sciencebase.gov/catalog/item/5aa2c535e4b0b1c392ea3ca2). We've provided the file, `alu_slab2_dep_02.23.18.xyz`, in the `lab_13` directory. Your task here is to use tools in GMT to convert this data to a grid format and plot the top of the subducted slab — that is, the depth to the slab surface — on a regional map. Use a suitable map extent showing Alaska and the trench. Make sure to include a colorbar and a title for the plot.\n",
    "\n",
    "## Deliverable 4: Alaska map with variety of datasets combined\n",
    "\n",
    "A very useful skill is to make maps in GMT with a combination of different datasets; it allows you to explore possible relationships that make for interesting scientific exploration. Remember that you can layer multiple datasets into your basemap, so adding various datasets is not terribly difficult once you have the data in the proper formats.\n",
    "\n",
    "For this section, continue working with the Alaska slab map made for Deliverable 3. We'd like you to also add to it the bathymetry and topography, sediment thickness, and location of seismic stations in the area. For the seismic stations, you can use [this iris webservices link](https://service.iris.edu/fdsnws/station/1/query?minlatitude=50&maxlatitude=73&minlongitude=171&maxlongitude=-129&format=text). If you are more interested in how that link works, go [here](https://service.iris.edu/) — it's a great way to get access to the seismic data available.\n",
    "\n",
    "Produce a map of slab position, background topography and bathymetry, sediment thickness, and seismic stations operating in Alaska. Use the basemap from Deliverable 3, but add the other datasets in reasonable ways (you'll need to think about and experiment with what makes a readable map). Include relevant scale bars, legends, and a title for the plot.\n",
    "\n",
    "An example map for this deliverable, `D4.png`, is provided in the `lab_13` directory."
   ]
  }
 ],
 "metadata": {
  "celltoolbar": "Tags",
  "kernelspec": {
   "display_name": "Python 3",
   "language": "python",
   "name": "python3"
  },
  "language_info": {
   "codemirror_mode": {
    "name": "ipython",
    "version": 3
   },
   "file_extension": ".py",
   "mimetype": "text/x-python",
   "name": "python",
   "nbconvert_exporter": "python",
   "pygments_lexer": "ipython3",
   "version": "3.7.9"
  }
 },
 "nbformat": 4,
 "nbformat_minor": 4
}
