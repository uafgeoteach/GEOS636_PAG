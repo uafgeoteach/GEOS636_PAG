{
 "cells": [
  {
   "cell_type": "markdown",
   "metadata": {},
   "source": [
    "# Base Python I/O\n",
    "\n",
    "### 1) `print` to screen"
   ]
  },
  {
   "cell_type": "code",
   "execution_count": null,
   "metadata": {},
   "outputs": [],
   "source": [
    "#Basic print\n",
    "print(\"(1) Hello World!\")\n",
    "\n",
    "#Doesn't just print strings\n",
    "print(\"(2)\", [23,2,\"a\"])\n",
    "\n",
    "#Add some special formatting:\n",
    "#Newline: \t\\n\n",
    "#Tabulator: \t\\t\n",
    "print(\"(3) A new line\\n\\tand a tab\\n\\tand another\")\n",
    "\n",
    "#number formatting (several possibilities)\n",
    "print(\"(4) Float: %.2f and Int: %d\" % (3.1415, 44))"
   ]
  },
  {
   "cell_type": "markdown",
   "metadata": {},
   "source": [
    "### 2) Write a file"
   ]
  },
  {
   "cell_type": "code",
   "execution_count": null,
   "metadata": {},
   "outputs": [],
   "source": [
    "fname = 'io_write.txt'\n",
    "\n",
    "#open file in write mode, add text\n",
    "#needs newline if we want them\n",
    "f = open(fname, \"w\")\n",
    "f.write(\"First Text\\n\")\n",
    "f.close()\n",
    "\n",
    "#open file in write mode again, overwrite\n",
    "f = open(fname, \"w\")\n",
    "f.write(\"Second Text\\n\")\n",
    "f.close()\n",
    "\n",
    "#open file in append mode and append text\n",
    "f = open(fname, \"a\")\n",
    "f.write(\"Appended\\nText\\nHere!\\n\")\n",
    "f.close()\n"
   ]
  },
  {
   "cell_type": "markdown",
   "metadata": {},
   "source": [
    "### 3) Read a file"
   ]
  },
  {
   "cell_type": "code",
   "execution_count": null,
   "metadata": {},
   "outputs": [],
   "source": [
    "fname = \"io_write.txt\"\n",
    "\n",
    "#1) open this file in read mode\n",
    "print(\"Example 1\")\n",
    "print(\"--------------------Start\")\n",
    "my_file = open(fname, \"r\")\n",
    "#print the entire thing\n",
    "print(my_file.read()) \n",
    "#close the file\n",
    "my_file.close()\n",
    "print(\"--------------------End\")\n",
    "\n",
    "#2) print a two lines of the file\n",
    "print(\"\\nExample 2\")\n",
    "print(\"--------------------Start\")\n",
    "my_file = open(fname, \"r\")\n",
    "#read and print a line, twice\n",
    "print(my_file.readline()) \n",
    "print(my_file.readline()) \n",
    "#close the file\n",
    "my_file.close()\n",
    "print(\"--------------------End\")\n",
    "\n",
    "#3) print each line in a loop, remove newline from print statement\n",
    "print(\"\\nExample 3\")\n",
    "print(\"--------------------Start\")\n",
    "with open(fname, 'r') as my_file:\n",
    "   for l in my_file:\n",
    "      print(l, end='') \n",
    "print(\"--------------------End\")\n"
   ]
  },
  {
   "cell_type": "markdown",
   "metadata": {},
   "source": [
    "# Numpy File Handling"
   ]
  },
  {
   "cell_type": "markdown",
   "metadata": {},
   "source": [
    "First, get the standard file we've been using - the station database and look at it."
   ]
  },
  {
   "cell_type": "code",
   "execution_count": null,
   "metadata": {},
   "outputs": [],
   "source": [
    "!curl -O -s http://www.grapenthin.org/teaching/geop501/download/lab07/station.txt  # Download the file\n",
    "!cat station.txt  # Display the contents"
   ]
  },
  {
   "cell_type": "markdown",
   "metadata": {},
   "source": [
    "### 1) Numpy `genfromtxt`\n",
    "\n",
    "Read the file in and explore some of the contents of the returned structure"
   ]
  },
  {
   "cell_type": "code",
   "execution_count": null,
   "metadata": {},
   "outputs": [],
   "source": [
    "import numpy as np\n",
    "\n",
    "# This approach actually uses the header line to name the output variables, using \"names=True\"\n",
    "stations = np.genfromtxt('station.txt', encoding='utf-8', dtype=None, delimiter=' ', names=True)\n",
    "\n",
    "#what did you get back?\n",
    "print(\"Contents of stations:\")\n",
    "print(stations)\n",
    "print(\"----------------------\\n\\n\")\n",
    "\n",
    "#what are the column names?\n",
    "print(\"All column names\")\n",
    "print(stations.dtype.names)\n",
    "print(\"----------------------\\n\\n\")\n",
    "\n",
    "#get all station names\n",
    "print(\"All station names\")\n",
    "print(stations['Name'])\n",
    "print(\"----------------------\\n\\n\")\n",
    "\n",
    "#get all station latitudes\n",
    "print(\"All station latitudes\")\n",
    "print(stations['Lat'])\n",
    "print(\"----------------------\\n\\n\")\n",
    "\n",
    "#get a row\n",
    "print(\"4th row:\")\n",
    "print(stations[3])\n",
    "print(\"----------------------\\n\\n\")\n",
    "\n"
   ]
  },
  {
   "cell_type": "markdown",
   "metadata": {},
   "source": [
    "### 2 Numpy `savetxt`"
   ]
  },
  {
   "cell_type": "code",
   "execution_count": null,
   "metadata": {},
   "outputs": [],
   "source": [
    "#Uses the header line to name the output variables, using \"names=True\"\n",
    "stations = np.genfromtxt('station.txt', encoding='utf-8', \n",
    "\t\t\t  dtype=None, delimiter=' ', names=True)\n",
    "\n",
    "#delete all but the first three entries\n",
    "stations = np.delete(stations, range(3,len(stations)), 0)\n",
    "\n",
    "np.savetxt('stations_short.txt', stations, fmt='%s %f %f %i %i %i')\n",
    "\n",
    "#investigate the contents of the new file\n",
    "!cat stations_short.txt"
   ]
  },
  {
   "cell_type": "markdown",
   "metadata": {},
   "source": [
    "# Pandas File Handling"
   ]
  },
  {
   "cell_type": "markdown",
   "metadata": {},
   "source": [
    "### 1) File Reading with `read_csv`"
   ]
  },
  {
   "cell_type": "code",
   "execution_count": null,
   "metadata": {},
   "outputs": [],
   "source": [
    "import pandas as pd\n",
    "\n",
    "#get a dataframe that uses the first column as index (index_col=0)\n",
    "#and has a header line, and field separator is a whitespace ' '\n",
    "stations = pd.read_csv('station.txt', sep=' ', header=0, index_col=0)\n",
    "\n",
    "#print three stations we are interested in, using the index\n",
    "#(isn't that easy?)\n",
    "stations.loc[['ANMO', 'BAR', 'CL7']]\n"
   ]
  },
  {
   "cell_type": "code",
   "execution_count": null,
   "metadata": {},
   "outputs": [],
   "source": [
    "#select a subset of stations\n",
    "new_stations = stations.loc[['ANMO', 'BAR', 'CL7']]\n",
    "\n",
    "#write it to a new file\n",
    "new_stations.to_csv('stations_short.csv')\n",
    "\n",
    "#show the contents\n",
    "!cat stations_short.csv"
   ]
  }
 ],
 "metadata": {
  "kernelspec": {
   "display_name": "Python 3",
   "language": "python",
   "name": "python3"
  },
  "language_info": {
   "codemirror_mode": {
    "name": "ipython",
    "version": 3
   },
   "file_extension": ".py",
   "mimetype": "text/x-python",
   "name": "python",
   "nbconvert_exporter": "python",
   "pygments_lexer": "ipython3",
   "version": "3.6.9"
  }
 },
 "nbformat": 4,
 "nbformat_minor": 4
}
