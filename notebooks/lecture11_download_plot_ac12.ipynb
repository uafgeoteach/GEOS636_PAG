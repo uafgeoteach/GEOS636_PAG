{
 "cells": [
  {
   "cell_type": "code",
   "execution_count": null,
   "metadata": {},
   "outputs": [],
   "source": [
    "!wget ftp://data-out.unavco.org/pub/products/position/AC12/AC12.cwu.final_nam14.pos\n"
   ]
  },
  {
   "cell_type": "code",
   "execution_count": null,
   "metadata": {},
   "outputs": [],
   "source": [
    "#extract the date, east, north, vertical motion\n",
    "!awk 'NR>37{print $1,$16,$17,$18}' AC12.cwu.final_nam14.pos > AC12.txt\n",
    "!cat AC12.txt"
   ]
  },
  {
   "cell_type": "code",
   "execution_count": null,
   "metadata": {},
   "outputs": [],
   "source": [
    "import numpy as np\n",
    "import matplotlib.pyplot as plt\n",
    "import datetime \n",
    "\n",
    "data = np.genfromtxt(\"AC12.txt\", names=['date', 'de', 'dn','du'])\n",
    "\n",
    "dates = [datetime.datetime.strptime(str(int(x)), \"%Y%m%d\") for x in data['date']]\n",
    "\n",
    "fig, (ax1, ax2, ax3) = plt.subplots(3, 1)\n",
    "\n",
    "# make a little extra space between the subplots\n",
    "fig.subplots_adjust(hspace=0.1)\n",
    "\n",
    "ax1.plot(dates, data['de'], '.')\n",
    "ax1.set_xticklabels([])\n",
    "ax1.set_ylabel('east (cm)')\n",
    "ax1.set_title('AC12 Displacements')\n",
    "\n",
    "ax2.plot(dates, data['dn'], 'k.')\n",
    "ax2.set_xticklabels([])\n",
    "ax2.set_ylabel('north (cm)')\n",
    "\n",
    "ax3.plot(dates, data['du'], 'r.')\n",
    "ax3.set_xlabel('time [year]')\n",
    "ax3.set_ylabel('vertical (cm)')\n",
    "\n",
    "plt.savefig(\"AC12.png\")"
   ]
  }
 ],
 "metadata": {
  "kernelspec": {
   "display_name": "Python 3",
   "language": "python",
   "name": "python3"
  },
  "language_info": {
   "codemirror_mode": {
    "name": "ipython",
    "version": 3
   },
   "file_extension": ".py",
   "mimetype": "text/x-python",
   "name": "python",
   "nbconvert_exporter": "python",
   "pygments_lexer": "ipython3",
   "version": "3.8.6"
  }
 },
 "nbformat": 4,
 "nbformat_minor": 4
}
