{
 "cells": [
  {
   "cell_type": "markdown",
   "metadata": {},
   "source": [
    "# Installing GMT to OpenSARlab\n",
    "\n",
    "This is a temporary installation (all that OSL currently allows) of GMT. To be able to do this, we need to create a new conda environment, and then install the GMT package into this. Execute the code cell below and be a bit patient."
   ]
  },
  {
   "cell_type": "code",
   "execution_count": null,
   "metadata": {},
   "outputs": [],
   "source": [
    "#create new environment\n",
    "!conda create -y -n pag_gmt\n",
    "\n",
    "#initialize all conda shells\n",
    "!conda init --all\n",
    "\n",
    "#install GMT\n",
    "!conda install -y -n pag_gmt gmt -c conda-forge"
   ]
  },
  {
   "cell_type": "markdown",
   "metadata": {},
   "source": [
    "With this done, you can now open a Terminal window. In it do:\n",
    "\n",
    "* type `bash` to start a new shell\n",
    "* type `conda activate pag_gmt` to activate the conda environment that has GMT installed into it\n",
    "* type `gmt` to confirm that it is installed. \n",
    "\n",
    "You should see something like this after running the steps above:\n",
    "\n",
    "```\n",
    "jovyan@jupyter-rgrapentihn:~$ bash\n",
    "(base) jovyan@jupyter-rgrapentihn:~$ conda activate pag_gmt\n",
    "(pag_gmt) jovyan@jupyter-rgrapentihn:~$ gmt\n",
    "\n",
    "        GMT - The Generic Mapping Tools, Version 6.1.1 [64-bit] [8 cores]\n",
    "        (c) 1991-2020 The GMT Team (https://www.generic-mapping-tools.org/team.html).\n",
    "\n",
    "        Supported in part by the US National Science Foundation (http://www.nsf.gov/)\n",
    "        and volunteers from around the world.\n",
    "\n",
    "        GMT is distributed under the GNU LGPL License (http://www.gnu.org/licenses/lgpl.html).\n",
    "        Dependencies: netCDF, GDAL, PCRE, FFTW, LAPACK, ZLIB, Ghostscript, GraphicsMagick, FFmpeg.\n",
    "\n",
    "usage: gmt [options]\n",
    "       gmt <module name> [<module-options>]\n",
    "\n",
    "options:\n",
    "  --help            List descriptions of available GMT modules.\n",
    "  --new-script[=L]  Write GMT modern mode script template to stdout.\n",
    "                    Optionally specify bash|csh|batch [Default is current shell].\n",
    "  --new-glue=name   Write C code for external supplements to glue them to GMT.\n",
    "  --show-bindir     Show directory with GMT executables.\n",
    "  --show-citation   Show the most recent citation for GMT.\n",
    "  --show-classic    Show all classic module names.\n",
    "  --show-cores      Show number of available cores.\n",
    "  --show-datadir    Show directory/ies with user data.\n",
    "  --show-dataserver Show URL of the remote GMT data server.\n",
    "  --show-doi        Show the DOI for the current release.\n",
    "  --show-library    Show path of the shared GMT library.\n",
    "  --show-modules    Show all modern module names.\n",
    "  --show-plugindir  Show directory for plug-ins.\n",
    "  --show-sharedir   Show directory for shared GMT resources.\n",
    "  --show-userdir    Show full path of user's ~/.gmt dir\n",
    "  --version         Print GMT version number.\n",
    "\n",
    "if <module-options> is '=' we call exit (0) if module exist and non-zero otherwise.\n",
    "```"
   ]
  }
 ],
 "metadata": {
  "kernelspec": {
   "display_name": "Python 3",
   "language": "python",
   "name": "python3"
  },
  "language_info": {
   "codemirror_mode": {
    "name": "ipython",
    "version": 3
   },
   "file_extension": ".py",
   "mimetype": "text/x-python",
   "name": "python",
   "nbconvert_exporter": "python",
   "pygments_lexer": "ipython3",
   "version": "3.8.6"
  }
 },
 "nbformat": 4,
 "nbformat_minor": 4
}
